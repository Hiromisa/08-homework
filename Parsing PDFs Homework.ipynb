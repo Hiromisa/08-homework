{
 "cells": [
  {
   "cell_type": "markdown",
   "metadata": {},
   "source": [
    "# Parsing PDFs Homework\n",
    "\n",
    "With the power of pdfminer, pytesseract, Camelot, and Tika, let's analyze some documents!\n",
    "\n",
    "> If at any point you think, **\"I'm close enough, I'd just edit the rest of it in Excel\"**: that's fine! Just make a note of it.\n",
    "\n",
    "## A trick to use again and again\n",
    "\n",
    "### Approach 1\n",
    "\n",
    "Before we get started: when you want to take the first row of your data and set it as the header, use this trick."
   ]
  },
  {
   "cell_type": "code",
   "execution_count": 1,
   "metadata": {},
   "outputs": [
    {
     "name": "stderr",
     "output_type": "stream",
     "text": [
      "/Users/hiromi/.pyenv/versions/3.8.10/lib/python3.8/site-packages/pandas/compat/__init__.py:97: UserWarning: Could not import the lzma module. Your installed Python is incomplete. Attempting to use lzma compression will result in a RuntimeError.\n",
      "  warnings.warn(msg)\n"
     ]
    }
   ],
   "source": [
    "import pandas as pd\n",
    "import numpy as np"
   ]
  },
  {
   "cell_type": "code",
   "execution_count": 2,
   "metadata": {},
   "outputs": [
    {
     "data": {
      "text/html": [
       "<div>\n",
       "<style scoped>\n",
       "    .dataframe tbody tr th:only-of-type {\n",
       "        vertical-align: middle;\n",
       "    }\n",
       "\n",
       "    .dataframe tbody tr th {\n",
       "        vertical-align: top;\n",
       "    }\n",
       "\n",
       "    .dataframe thead th {\n",
       "        text-align: right;\n",
       "    }\n",
       "</style>\n",
       "<table border=\"1\" class=\"dataframe\">\n",
       "  <thead>\n",
       "    <tr style=\"text-align: right;\">\n",
       "      <th></th>\n",
       "      <th>0</th>\n",
       "      <th>1</th>\n",
       "    </tr>\n",
       "  </thead>\n",
       "  <tbody>\n",
       "    <tr>\n",
       "      <th>0</th>\n",
       "      <td>fruit name</td>\n",
       "      <td>likes</td>\n",
       "    </tr>\n",
       "    <tr>\n",
       "      <th>1</th>\n",
       "      <td>apple</td>\n",
       "      <td>15</td>\n",
       "    </tr>\n",
       "    <tr>\n",
       "      <th>2</th>\n",
       "      <td>carrot</td>\n",
       "      <td>3</td>\n",
       "    </tr>\n",
       "    <tr>\n",
       "      <th>3</th>\n",
       "      <td>sweet potato</td>\n",
       "      <td>45</td>\n",
       "    </tr>\n",
       "    <tr>\n",
       "      <th>4</th>\n",
       "      <td>peach</td>\n",
       "      <td>12</td>\n",
       "    </tr>\n",
       "  </tbody>\n",
       "</table>\n",
       "</div>"
      ],
      "text/plain": [
       "              0      1\n",
       "0    fruit name  likes\n",
       "1         apple     15\n",
       "2        carrot      3\n",
       "3  sweet potato     45\n",
       "4         peach     12"
      ]
     },
     "execution_count": 2,
     "metadata": {},
     "output_type": "execute_result"
    }
   ],
   "source": [
    "df = pd.DataFrame([\n",
    "    [ 'fruit name', 'likes' ],\n",
    "    [ 'apple', 15 ],\n",
    "    [ 'carrot', 3 ],\n",
    "    [ 'sweet potato', 45 ],\n",
    "    [ 'peach', 12 ],\n",
    "])\n",
    "df"
   ]
  },
  {
   "cell_type": "code",
   "execution_count": 3,
   "metadata": {},
   "outputs": [],
   "source": [
    "# Set the first column as the columns\n",
    "df.columns = df.loc[0]"
   ]
  },
  {
   "cell_type": "code",
   "execution_count": 4,
   "metadata": {},
   "outputs": [],
   "source": [
    "# Drop the first row\n",
    "df = df.drop(0)"
   ]
  },
  {
   "cell_type": "code",
   "execution_count": 5,
   "metadata": {},
   "outputs": [
    {
     "data": {
      "text/html": [
       "<div>\n",
       "<style scoped>\n",
       "    .dataframe tbody tr th:only-of-type {\n",
       "        vertical-align: middle;\n",
       "    }\n",
       "\n",
       "    .dataframe tbody tr th {\n",
       "        vertical-align: top;\n",
       "    }\n",
       "\n",
       "    .dataframe thead th {\n",
       "        text-align: right;\n",
       "    }\n",
       "</style>\n",
       "<table border=\"1\" class=\"dataframe\">\n",
       "  <thead>\n",
       "    <tr style=\"text-align: right;\">\n",
       "      <th></th>\n",
       "      <th>fruit name</th>\n",
       "      <th>likes</th>\n",
       "    </tr>\n",
       "  </thead>\n",
       "  <tbody>\n",
       "    <tr>\n",
       "      <th>1</th>\n",
       "      <td>apple</td>\n",
       "      <td>15</td>\n",
       "    </tr>\n",
       "    <tr>\n",
       "      <th>2</th>\n",
       "      <td>carrot</td>\n",
       "      <td>3</td>\n",
       "    </tr>\n",
       "    <tr>\n",
       "      <th>3</th>\n",
       "      <td>sweet potato</td>\n",
       "      <td>45</td>\n",
       "    </tr>\n",
       "    <tr>\n",
       "      <th>4</th>\n",
       "      <td>peach</td>\n",
       "      <td>12</td>\n",
       "    </tr>\n",
       "  </tbody>\n",
       "</table>\n",
       "</div>"
      ],
      "text/plain": [
       "0    fruit name likes\n",
       "1         apple    15\n",
       "2        carrot     3\n",
       "3  sweet potato    45\n",
       "4         peach    12"
      ]
     },
     "execution_count": 5,
     "metadata": {},
     "output_type": "execute_result"
    }
   ],
   "source": [
    "df"
   ]
  },
  {
   "cell_type": "markdown",
   "metadata": {},
   "source": [
    "🚀 Done!\n",
    "\n",
    "### Approach 2\n",
    "\n",
    "Another alternative is to use `.rename` on your columns and just filter out the columns you aren't interested in. This can be useful if the column name shows up multiple times in your data for some reason or another."
   ]
  },
  {
   "cell_type": "code",
   "execution_count": 6,
   "metadata": {},
   "outputs": [
    {
     "data": {
      "text/html": [
       "<div>\n",
       "<style scoped>\n",
       "    .dataframe tbody tr th:only-of-type {\n",
       "        vertical-align: middle;\n",
       "    }\n",
       "\n",
       "    .dataframe tbody tr th {\n",
       "        vertical-align: top;\n",
       "    }\n",
       "\n",
       "    .dataframe thead th {\n",
       "        text-align: right;\n",
       "    }\n",
       "</style>\n",
       "<table border=\"1\" class=\"dataframe\">\n",
       "  <thead>\n",
       "    <tr style=\"text-align: right;\">\n",
       "      <th></th>\n",
       "      <th>0</th>\n",
       "      <th>1</th>\n",
       "    </tr>\n",
       "  </thead>\n",
       "  <tbody>\n",
       "    <tr>\n",
       "      <th>0</th>\n",
       "      <td>fruit name</td>\n",
       "      <td>likes</td>\n",
       "    </tr>\n",
       "    <tr>\n",
       "      <th>1</th>\n",
       "      <td>apple</td>\n",
       "      <td>15</td>\n",
       "    </tr>\n",
       "    <tr>\n",
       "      <th>2</th>\n",
       "      <td>carrot</td>\n",
       "      <td>3</td>\n",
       "    </tr>\n",
       "    <tr>\n",
       "      <th>3</th>\n",
       "      <td>fruit name</td>\n",
       "      <td>likes</td>\n",
       "    </tr>\n",
       "    <tr>\n",
       "      <th>4</th>\n",
       "      <td>sweet potato</td>\n",
       "      <td>45</td>\n",
       "    </tr>\n",
       "    <tr>\n",
       "      <th>5</th>\n",
       "      <td>peach</td>\n",
       "      <td>12</td>\n",
       "    </tr>\n",
       "  </tbody>\n",
       "</table>\n",
       "</div>"
      ],
      "text/plain": [
       "              0      1\n",
       "0    fruit name  likes\n",
       "1         apple     15\n",
       "2        carrot      3\n",
       "3    fruit name  likes\n",
       "4  sweet potato     45\n",
       "5         peach     12"
      ]
     },
     "execution_count": 6,
     "metadata": {},
     "output_type": "execute_result"
    }
   ],
   "source": [
    "# Starting with the same-ish data...\n",
    "df = pd.DataFrame([\n",
    "    [ 'fruit name', 'likes' ],\n",
    "    [ 'apple', 15 ],\n",
    "    [ 'carrot', 3 ],\n",
    "    [ 'fruit name', 'likes' ],\n",
    "    [ 'sweet potato', 45 ],\n",
    "    [ 'peach', 12 ],\n",
    "])\n",
    "df"
   ]
  },
  {
   "cell_type": "code",
   "execution_count": 7,
   "metadata": {},
   "outputs": [
    {
     "data": {
      "text/html": [
       "<div>\n",
       "<style scoped>\n",
       "    .dataframe tbody tr th:only-of-type {\n",
       "        vertical-align: middle;\n",
       "    }\n",
       "\n",
       "    .dataframe tbody tr th {\n",
       "        vertical-align: top;\n",
       "    }\n",
       "\n",
       "    .dataframe thead th {\n",
       "        text-align: right;\n",
       "    }\n",
       "</style>\n",
       "<table border=\"1\" class=\"dataframe\">\n",
       "  <thead>\n",
       "    <tr style=\"text-align: right;\">\n",
       "      <th></th>\n",
       "      <th>fruit name</th>\n",
       "      <th>likes</th>\n",
       "    </tr>\n",
       "  </thead>\n",
       "  <tbody>\n",
       "    <tr>\n",
       "      <th>1</th>\n",
       "      <td>apple</td>\n",
       "      <td>15</td>\n",
       "    </tr>\n",
       "    <tr>\n",
       "      <th>2</th>\n",
       "      <td>carrot</td>\n",
       "      <td>3</td>\n",
       "    </tr>\n",
       "    <tr>\n",
       "      <th>4</th>\n",
       "      <td>sweet potato</td>\n",
       "      <td>45</td>\n",
       "    </tr>\n",
       "    <tr>\n",
       "      <th>5</th>\n",
       "      <td>peach</td>\n",
       "      <td>12</td>\n",
       "    </tr>\n",
       "  </tbody>\n",
       "</table>\n",
       "</div>"
      ],
      "text/plain": [
       "     fruit name likes\n",
       "1         apple    15\n",
       "2        carrot     3\n",
       "4  sweet potato    45\n",
       "5         peach    12"
      ]
     },
     "execution_count": 7,
     "metadata": {},
     "output_type": "execute_result"
    }
   ],
   "source": [
    "df = df.rename(columns={\n",
    "    0: 'fruit name',\n",
    "    1: 'likes'\n",
    "})\n",
    "df = df[df['fruit name'] != 'fruit name']\n",
    "df"
   ]
  },
  {
   "cell_type": "markdown",
   "metadata": {},
   "source": [
    "🚀 Done!\n",
    "\n",
    "### Useful tips about coordinates\n",
    "\n",
    "If you want to grab only a section of the page [Kull](https://jsoma.github.io/kull/#/) might be helpful in finding the coordinates.\n",
    "\n",
    "> **Alternatively** run `%matplotlib notebook` in a cell. Afterwards, every time you use something like `camelot.plot(tables[0]).show()` it will get you nice zoomable, hoverable versions that include `x` and `y` coordinates as you move your mouse.\n",
    "\n",
    "Coordinates are given as `\"left_x,top_y,right_x,bottom_y\"` with `(0,0)` being in the bottom left-hand corner.\n",
    "\n",
    "Note that all coordinates are strings, for some reason. It won't be `[1, 2, 3, 4]` it will be `['1,2,3,4']`\n",
    "\n",
    "# The homework\n",
    "\n",
    "This is **mostly Camelot work**, because I don't really have any good image-based PDFs to stretch your wings on tesseract. If you know of any, let me know and I can put together another couple exercises.\n",
    "\n",
    "## Prison Inmates\n",
    "\n",
    "Working from [InmateList.pdf](InmateList.pdf), save a CSV file that includes every inmate.\n",
    "\n",
    "* Make sure your rows are *all data*, and you don't have any people named \"Inmate Name.\"\n"
   ]
  },
  {
   "cell_type": "code",
   "execution_count": 2,
   "metadata": {},
   "outputs": [],
   "source": [
    "import camelot\n",
    "import matplotlib.pyplot as plt\n",
    "from pdfminer.high_level import extract_text\n",
    "import tika\n",
    "from tika import parser\n",
    "import pytesseract"
   ]
  },
  {
   "cell_type": "code",
   "execution_count": 71,
   "metadata": {},
   "outputs": [],
   "source": [
    "tables = camelot.read_pdf('InmateList.pdf', flavor='stream', pages='all')\n",
    "df_inmate_test = pd.concat([tab.df for tab in tables], ignore_index=True)\n",
    "df_inmate_test.to_csv('inmatetest.csv')"
   ]
  },
  {
   "cell_type": "markdown",
   "metadata": {},
   "source": [
    "### page 1-6, 8-15 is same structurer, page 7 & 16 is different. Try separately"
   ]
  },
  {
   "cell_type": "code",
   "execution_count": 10,
   "metadata": {},
   "outputs": [
    {
     "data": {
      "text/plain": [
       "<TableList n=6>"
      ]
     },
     "execution_count": 10,
     "metadata": {},
     "output_type": "execute_result"
    }
   ],
   "source": [
    "tables = camelot.read_pdf('InmateList.pdf', flavor='stream', pages='1-6')\n",
    "tables"
   ]
  },
  {
   "cell_type": "code",
   "execution_count": 11,
   "metadata": {},
   "outputs": [],
   "source": [
    "df_inmate1 = pd.concat([tab.df for tab in tables], ignore_index=True)"
   ]
  },
  {
   "cell_type": "code",
   "execution_count": 13,
   "metadata": {},
   "outputs": [],
   "source": [
    "df_inmate1 = df_inmate1.rename(columns={0:'ICN #', 1:'Inmate Name', 3:'Facility',4:'Booking Date'}).drop(columns=[2,5])"
   ]
  },
  {
   "cell_type": "code",
   "execution_count": 15,
   "metadata": {},
   "outputs": [],
   "source": [
    "df_inmate1 = df_inmate1[(df_inmate1.Facility != \"Erie County Sheriff's Office\") & (df_inmate1.Facility != \"Inmate Roster\")&(df_inmate1.Facility != \"Facility\")&(df_inmate1['ICN #'] != \"Created On:\")]"
   ]
  },
  {
   "cell_type": "code",
   "execution_count": 65,
   "metadata": {},
   "outputs": [],
   "source": [
    "# df_inmate1.head(3)"
   ]
  },
  {
   "cell_type": "code",
   "execution_count": 22,
   "metadata": {},
   "outputs": [],
   "source": [
    "table2 = camelot.read_pdf('InmateList.pdf', flavor='stream', pages='7')\n",
    "df_inmate2 = table2[0].df"
   ]
  },
  {
   "cell_type": "code",
   "execution_count": 24,
   "metadata": {},
   "outputs": [],
   "source": [
    "df_inmate2 = df_inmate2.rename(columns={0:'ICN #', 1:'Inmate Name', 2:'Facility',3:'Booking Date'}).drop(columns=[4])"
   ]
  },
  {
   "cell_type": "code",
   "execution_count": 28,
   "metadata": {},
   "outputs": [],
   "source": [
    "df_inmate2 = df_inmate2.drop([0,1,2,46])"
   ]
  },
  {
   "cell_type": "code",
   "execution_count": 66,
   "metadata": {
    "scrolled": true
   },
   "outputs": [],
   "source": [
    "# df_inmate2.tail(3)"
   ]
  },
  {
   "cell_type": "code",
   "execution_count": 31,
   "metadata": {},
   "outputs": [
    {
     "data": {
      "text/plain": [
       "<TableList n=8>"
      ]
     },
     "execution_count": 31,
     "metadata": {},
     "output_type": "execute_result"
    }
   ],
   "source": [
    "tables3 = camelot.read_pdf('InmateList.pdf', flavor='stream', pages='8-15')\n",
    "tables3"
   ]
  },
  {
   "cell_type": "code",
   "execution_count": 32,
   "metadata": {},
   "outputs": [],
   "source": [
    "df_inmate3 = pd.concat([tab.df for tab in tables3], ignore_index=True)"
   ]
  },
  {
   "cell_type": "code",
   "execution_count": 34,
   "metadata": {},
   "outputs": [],
   "source": [
    "df_inmate3 = df_inmate3.rename(columns={0:'ICN #', 1:'Inmate Name', 3:'Facility',4:'Booking Date'}).drop(columns=[2,5])"
   ]
  },
  {
   "cell_type": "code",
   "execution_count": 37,
   "metadata": {},
   "outputs": [],
   "source": [
    "df_inmate3 = df_inmate3[(df_inmate3.Facility != \"Erie County Sheriff's Office\") & (df_inmate3.Facility != \"Inmate Roster\")&(df_inmate3.Facility != \"Facility\")&(df_inmate3['ICN #'] != \"Created On:\")]"
   ]
  },
  {
   "cell_type": "code",
   "execution_count": 67,
   "metadata": {},
   "outputs": [],
   "source": [
    "# df_inmate3.head(3)"
   ]
  },
  {
   "cell_type": "code",
   "execution_count": 43,
   "metadata": {},
   "outputs": [],
   "source": [
    "tables4 = camelot.read_pdf('InmateList.pdf', flavor='stream', pages='16')\n",
    "df_inmate4 = tables4[0].df"
   ]
  },
  {
   "cell_type": "code",
   "execution_count": 45,
   "metadata": {},
   "outputs": [],
   "source": [
    "df_inmate4 = df_inmate4.rename(columns={0:'ICN #', 1:'Inmate Name', 2:'Facility',3:'Booking Date'})"
   ]
  },
  {
   "cell_type": "code",
   "execution_count": 49,
   "metadata": {},
   "outputs": [],
   "source": [
    "df_inmate4 = df_inmate4.drop([0,1,2])"
   ]
  },
  {
   "cell_type": "code",
   "execution_count": 68,
   "metadata": {},
   "outputs": [],
   "source": [
    "# df_inmate4.head(3)"
   ]
  },
  {
   "cell_type": "code",
   "execution_count": 51,
   "metadata": {},
   "outputs": [],
   "source": [
    "df_inmate = pd.concat([df_inmate1, df_inmate2, df_inmate3,df_inmate4], axis=0)"
   ]
  },
  {
   "cell_type": "code",
   "execution_count": 52,
   "metadata": {},
   "outputs": [],
   "source": [
    "df_inmate.to_csv(\"InmateList.csv\", index =False)"
   ]
  },
  {
   "cell_type": "markdown",
   "metadata": {},
   "source": [
    "## WHO resolutions\n",
    "\n",
    "Using [A74_R13-en.pdf](A74_R13-en.pdf), what ten member countries are given the highest assessments?\n",
    "\n",
    "* You might need to have two separate queries, and combine the results: that last page is pretty awful!\n",
    "* Always rename your columns\n",
    "* Double-check that your sorting looks right......\n",
    "* You can still get the answer even without perfectly clean data"
   ]
  },
  {
   "cell_type": "code",
   "execution_count": 5,
   "metadata": {},
   "outputs": [],
   "source": [
    "tables = camelot.read_pdf('A74_R13-en.pdf', flavor='stream', pages='all')\n",
    "tables\n",
    "df_who_test = pd.concat([tab.df for tab in tables], ignore_index=True)\n",
    "df_who_test.to_csv('whotest.csv')"
   ]
  },
  {
   "cell_type": "markdown",
   "metadata": {},
   "source": [
    "### 2 countries in the last page (Zambia, Zimbabe) are clearly NOT 10 member countries given the highest assessments. We don't need this page for the purpose."
   ]
  },
  {
   "cell_type": "code",
   "execution_count": 6,
   "metadata": {},
   "outputs": [],
   "source": [
    "tables1 = camelot.read_pdf('A74_R13-en.pdf', flavor='stream', pages='1-5')\n",
    "df_who1 = pd.concat([tab.df for tab in tables1], ignore_index=True)"
   ]
  },
  {
   "cell_type": "code",
   "execution_count": 7,
   "metadata": {},
   "outputs": [],
   "source": [
    "df_who1 = df_who1.rename(columns = {0:'Members and Associate Members', 1: 'WHO scale for 2022–2023 (%)'} )"
   ]
  },
  {
   "cell_type": "code",
   "execution_count": 8,
   "metadata": {},
   "outputs": [],
   "source": [
    "df_who1 = df_who1[(df_who1['WHO scale for 2022–2023 (%)'] != 'WHO scale')&(df_who1['WHO scale for 2022–2023 (%)'] != 'for 2022–2023')&(df_who1['WHO scale for 2022–2023 (%)'] != '%')]"
   ]
  },
  {
   "cell_type": "code",
   "execution_count": 9,
   "metadata": {},
   "outputs": [
    {
     "data": {
      "text/html": [
       "<div>\n",
       "<style scoped>\n",
       "    .dataframe tbody tr th:only-of-type {\n",
       "        vertical-align: middle;\n",
       "    }\n",
       "\n",
       "    .dataframe tbody tr th {\n",
       "        vertical-align: top;\n",
       "    }\n",
       "\n",
       "    .dataframe thead th {\n",
       "        text-align: right;\n",
       "    }\n",
       "</style>\n",
       "<table border=\"1\" class=\"dataframe\">\n",
       "  <thead>\n",
       "    <tr style=\"text-align: right;\">\n",
       "      <th></th>\n",
       "      <th>Members and Associate Members</th>\n",
       "      <th>WHO scale for 2022–2023 (%)</th>\n",
       "    </tr>\n",
       "  </thead>\n",
       "  <tbody>\n",
       "    <tr>\n",
       "      <th>210</th>\n",
       "      <td>Uzbekistan</td>\n",
       "      <td>0.0320</td>\n",
       "    </tr>\n",
       "    <tr>\n",
       "      <th>211</th>\n",
       "      <td>Vanuatu</td>\n",
       "      <td>0.0010</td>\n",
       "    </tr>\n",
       "    <tr>\n",
       "      <th>212</th>\n",
       "      <td>Venezuela (Bolivarian Republic of)</td>\n",
       "      <td>0.7280</td>\n",
       "    </tr>\n",
       "    <tr>\n",
       "      <th>213</th>\n",
       "      <td>Viet Nam</td>\n",
       "      <td>0.0770</td>\n",
       "    </tr>\n",
       "    <tr>\n",
       "      <th>214</th>\n",
       "      <td>Yemen</td>\n",
       "      <td>0.0100</td>\n",
       "    </tr>\n",
       "  </tbody>\n",
       "</table>\n",
       "</div>"
      ],
      "text/plain": [
       "          Members and Associate Members WHO scale for 2022–2023 (%)\n",
       "210                          Uzbekistan                      0.0320\n",
       "211                             Vanuatu                      0.0010\n",
       "212  Venezuela (Bolivarian Republic of)                      0.7280\n",
       "213                            Viet Nam                      0.0770\n",
       "214                               Yemen                      0.0100"
      ]
     },
     "execution_count": 9,
     "metadata": {},
     "output_type": "execute_result"
    }
   ],
   "source": [
    "df_who1.tail()"
   ]
  },
  {
   "cell_type": "code",
   "execution_count": 74,
   "metadata": {},
   "outputs": [],
   "source": [
    "# df_who1.info()"
   ]
  },
  {
   "cell_type": "code",
   "execution_count": 11,
   "metadata": {
    "scrolled": false
   },
   "outputs": [
    {
     "data": {
      "text/html": [
       "<div>\n",
       "<style scoped>\n",
       "    .dataframe tbody tr th:only-of-type {\n",
       "        vertical-align: middle;\n",
       "    }\n",
       "\n",
       "    .dataframe tbody tr th {\n",
       "        vertical-align: top;\n",
       "    }\n",
       "\n",
       "    .dataframe thead th {\n",
       "        text-align: right;\n",
       "    }\n",
       "</style>\n",
       "<table border=\"1\" class=\"dataframe\">\n",
       "  <thead>\n",
       "    <tr style=\"text-align: right;\">\n",
       "      <th></th>\n",
       "      <th>Members and Associate Members</th>\n",
       "      <th>WHO scale for 2022–2023 (%)</th>\n",
       "    </tr>\n",
       "  </thead>\n",
       "  <tbody>\n",
       "    <tr>\n",
       "      <th>45</th>\n",
       "      <td>Cook Islands (not a member of the</td>\n",
       "      <td></td>\n",
       "    </tr>\n",
       "    <tr>\n",
       "      <th>53</th>\n",
       "      <td>Democratic People’s Republic of</td>\n",
       "      <td></td>\n",
       "    </tr>\n",
       "    <tr>\n",
       "      <th>140</th>\n",
       "      <td>Niue (not a member of the United</td>\n",
       "      <td></td>\n",
       "    </tr>\n",
       "    <tr>\n",
       "      <th>154</th>\n",
       "      <td>Puerto Rico (not a member of the</td>\n",
       "      <td></td>\n",
       "    </tr>\n",
       "    <tr>\n",
       "      <th>194</th>\n",
       "      <td>Tokelau (not a member of the United</td>\n",
       "      <td></td>\n",
       "    </tr>\n",
       "    <tr>\n",
       "      <th>205</th>\n",
       "      <td>United Kingdom of Great Britain and</td>\n",
       "      <td></td>\n",
       "    </tr>\n",
       "  </tbody>\n",
       "</table>\n",
       "</div>"
      ],
      "text/plain": [
       "           Members and Associate Members WHO scale for 2022–2023 (%)\n",
       "45     Cook Islands (not a member of the                            \n",
       "53       Democratic People’s Republic of                            \n",
       "140     Niue (not a member of the United                            \n",
       "154     Puerto Rico (not a member of the                            \n",
       "194  Tokelau (not a member of the United                            \n",
       "205  United Kingdom of Great Britain and                            "
      ]
     },
     "execution_count": 11,
     "metadata": {},
     "output_type": "execute_result"
    }
   ],
   "source": [
    "df_who1[df_who1['WHO scale for 2022–2023 (%)'] == '']"
   ]
  },
  {
   "cell_type": "markdown",
   "metadata": {},
   "source": [
    "#### memo:  53/54 = Democratic People’s Republic of Korea, 205/206 = United Kingdom of Great Britain and Northern Ireland. Other countries are not UN countries, we don't have to take care for the purpose of finding top 10 member countries."
   ]
  },
  {
   "cell_type": "code",
   "execution_count": 12,
   "metadata": {},
   "outputs": [],
   "source": [
    "df_who1 = df_who1[df_who1['WHO scale for 2022–2023 (%)'] != '']"
   ]
  },
  {
   "cell_type": "code",
   "execution_count": 15,
   "metadata": {},
   "outputs": [
    {
     "data": {
      "text/plain": [
       "Members and Associate Members     object\n",
       "WHO scale for 2022–2023 (%)      float64\n",
       "dtype: object"
      ]
     },
     "execution_count": 15,
     "metadata": {},
     "output_type": "execute_result"
    }
   ],
   "source": [
    "df_who1.dtypes"
   ]
  },
  {
   "cell_type": "code",
   "execution_count": 14,
   "metadata": {},
   "outputs": [],
   "source": [
    "df_who1['WHO scale for 2022–2023 (%)'] = df_who1['WHO scale for 2022–2023 (%)'].astype(float)"
   ]
  },
  {
   "cell_type": "code",
   "execution_count": 23,
   "metadata": {},
   "outputs": [],
   "source": [
    "df_who1 = df_who1.set_index('Members and Associate Members')"
   ]
  },
  {
   "cell_type": "code",
   "execution_count": 25,
   "metadata": {},
   "outputs": [],
   "source": [
    "topten = df_who1['WHO scale for 2022–2023 (%)'].nlargest(10)"
   ]
  },
  {
   "cell_type": "markdown",
   "metadata": {},
   "source": [
    "### This is 10 countries list given the highest assessments."
   ]
  },
  {
   "cell_type": "code",
   "execution_count": 75,
   "metadata": {},
   "outputs": [
    {
     "data": {
      "text/html": [
       "<div>\n",
       "<style scoped>\n",
       "    .dataframe tbody tr th:only-of-type {\n",
       "        vertical-align: middle;\n",
       "    }\n",
       "\n",
       "    .dataframe tbody tr th {\n",
       "        vertical-align: top;\n",
       "    }\n",
       "\n",
       "    .dataframe thead th {\n",
       "        text-align: right;\n",
       "    }\n",
       "</style>\n",
       "<table border=\"1\" class=\"dataframe\">\n",
       "  <thead>\n",
       "    <tr style=\"text-align: right;\">\n",
       "      <th></th>\n",
       "      <th>WHO scale for 2022–2023 (%)</th>\n",
       "    </tr>\n",
       "    <tr>\n",
       "      <th>Members and Associate Members</th>\n",
       "      <th></th>\n",
       "    </tr>\n",
       "  </thead>\n",
       "  <tbody>\n",
       "    <tr>\n",
       "      <th>United States of America</th>\n",
       "      <td>22.0000</td>\n",
       "    </tr>\n",
       "    <tr>\n",
       "      <th>China</th>\n",
       "      <td>12.0058</td>\n",
       "    </tr>\n",
       "    <tr>\n",
       "      <th>Japan</th>\n",
       "      <td>8.5645</td>\n",
       "    </tr>\n",
       "    <tr>\n",
       "      <th>Germany</th>\n",
       "      <td>6.0904</td>\n",
       "    </tr>\n",
       "    <tr>\n",
       "      <th>Northern Ireland</th>\n",
       "      <td>4.5673</td>\n",
       "    </tr>\n",
       "    <tr>\n",
       "      <th>France</th>\n",
       "      <td>4.4273</td>\n",
       "    </tr>\n",
       "    <tr>\n",
       "      <th>Italy</th>\n",
       "      <td>3.3072</td>\n",
       "    </tr>\n",
       "    <tr>\n",
       "      <th>Brazil</th>\n",
       "      <td>2.9482</td>\n",
       "    </tr>\n",
       "    <tr>\n",
       "      <th>Canada</th>\n",
       "      <td>2.7342</td>\n",
       "    </tr>\n",
       "    <tr>\n",
       "      <th>Russian Federation</th>\n",
       "      <td>2.4052</td>\n",
       "    </tr>\n",
       "  </tbody>\n",
       "</table>\n",
       "</div>"
      ],
      "text/plain": [
       "                               WHO scale for 2022–2023 (%)\n",
       "Members and Associate Members                             \n",
       "United States of America                           22.0000\n",
       "China                                              12.0058\n",
       "Japan                                               8.5645\n",
       "Germany                                             6.0904\n",
       "Northern Ireland                                    4.5673\n",
       "France                                              4.4273\n",
       "Italy                                               3.3072\n",
       "Brazil                                              2.9482\n",
       "Canada                                              2.7342\n",
       "Russian Federation                                  2.4052"
      ]
     },
     "execution_count": 75,
     "metadata": {},
     "output_type": "execute_result"
    }
   ],
   "source": [
    "pd.DataFrame(topten)"
   ]
  },
  {
   "cell_type": "code",
   "execution_count": 73,
   "metadata": {},
   "outputs": [],
   "source": [
    "pd.DataFrame(topten).to_csv('top10-UNassess-countries.csv')"
   ]
  },
  {
   "cell_type": "markdown",
   "metadata": {},
   "source": [
    "## The Avengers\n",
    "\n",
    "Using [THE_AVENGERS.pdf](THE_AVENGERS.pdf), approximately how many lines does Captain America have as compared to Thor and Iron Man?\n",
    "\n",
    "* Character names only: we're only counting `IRON MAN` as Iron Man, not `TONY`.\n",
    "* Your new best friend might be `\\n`\n",
    "* Look up `.count` for strings"
   ]
  },
  {
   "cell_type": "code",
   "execution_count": 31,
   "metadata": {},
   "outputs": [],
   "source": [
    "parsed = parser.from_file('THE_AVENGERS.pdf')"
   ]
  },
  {
   "cell_type": "code",
   "execution_count": 34,
   "metadata": {},
   "outputs": [],
   "source": [
    "text = parsed['content'].strip()"
   ]
  },
  {
   "cell_type": "code",
   "execution_count": 39,
   "metadata": {
    "scrolled": false
   },
   "outputs": [
    {
     "data": {
      "text/plain": [
       "52"
      ]
     },
     "execution_count": 39,
     "metadata": {},
     "output_type": "execute_result"
    }
   ],
   "source": [
    "ironman = text.count(\"IRON MAN\")\n",
    "ironman"
   ]
  },
  {
   "cell_type": "code",
   "execution_count": 40,
   "metadata": {},
   "outputs": [
    {
     "data": {
      "text/plain": [
       "40"
      ]
     },
     "execution_count": 40,
     "metadata": {},
     "output_type": "execute_result"
    }
   ],
   "source": [
    "captain_america = text.count(\"CAPTAIN AMERICA\")\n",
    "captain_america"
   ]
  },
  {
   "cell_type": "code",
   "execution_count": 41,
   "metadata": {},
   "outputs": [
    {
     "data": {
      "text/plain": [
       "49"
      ]
     },
     "execution_count": 41,
     "metadata": {},
     "output_type": "execute_result"
    }
   ],
   "source": [
    "thor = text.count(\"THOR\")\n",
    "thor"
   ]
  },
  {
   "cell_type": "markdown",
   "metadata": {},
   "source": [
    "## Answer : Captain America has 40 lines, while IRON MAN 52 and THOR 49. "
   ]
  },
  {
   "cell_type": "markdown",
   "metadata": {},
   "source": [
    "## COVID data\n",
    "\n",
    "Using [covidweekly2721.pdf](covidweekly2721.pdf), what's the total number of tests performed in Minnesota? Use the Laboratory Test Rates by County of Residence chart.\n",
    "\n",
    "* You COULD pull both tables separately OR you could pull them both at once and split them in pandas.\n",
    "* Remember you can do things like `df[['name','age']]` to ask for multiple columns"
   ]
  },
  {
   "cell_type": "code",
   "execution_count": 76,
   "metadata": {},
   "outputs": [
    {
     "data": {
      "text/plain": [
       "<TableList n=2>"
      ]
     },
     "execution_count": 76,
     "metadata": {},
     "output_type": "execute_result"
    }
   ],
   "source": [
    "tables = camelot.read_pdf('covidweekly2721.pdf', flavor='lattice', pages='6')\n",
    "tables"
   ]
  },
  {
   "cell_type": "code",
   "execution_count": 81,
   "metadata": {},
   "outputs": [],
   "source": [
    "covid = tables[1].df"
   ]
  },
  {
   "cell_type": "code",
   "execution_count": 72,
   "metadata": {},
   "outputs": [],
   "source": [
    "# covid.head(3)"
   ]
  },
  {
   "cell_type": "code",
   "execution_count": 96,
   "metadata": {},
   "outputs": [],
   "source": [
    "df_covid1 = covid[[0,1]].rename(columns={0: 'County', 1: 'Number of Tests'}).drop([0])"
   ]
  },
  {
   "cell_type": "code",
   "execution_count": 98,
   "metadata": {},
   "outputs": [],
   "source": [
    "df_covid2 = covid[[3,4]].rename(columns={3: 'County', 4: 'Number of Tests'}).drop([0])"
   ]
  },
  {
   "cell_type": "code",
   "execution_count": 105,
   "metadata": {},
   "outputs": [],
   "source": [
    "df_covid1 = df_covid1.replace('77,865\\n9,953', '77,865')"
   ]
  },
  {
   "cell_type": "code",
   "execution_count": 135,
   "metadata": {},
   "outputs": [],
   "source": [
    "# df_covid1.dtypes\n",
    "# df_covid1.head(5)"
   ]
  },
  {
   "cell_type": "code",
   "execution_count": 134,
   "metadata": {
    "scrolled": true
   },
   "outputs": [],
   "source": [
    "# df_covid2.head(5)"
   ]
  },
  {
   "cell_type": "code",
   "execution_count": 123,
   "metadata": {},
   "outputs": [],
   "source": [
    "df_covid = pd.concat([df_covid1, df_covid2], axis=0)"
   ]
  },
  {
   "cell_type": "code",
   "execution_count": 133,
   "metadata": {
    "scrolled": true
   },
   "outputs": [],
   "source": [
    "# df_covid.head()"
   ]
  },
  {
   "cell_type": "code",
   "execution_count": 129,
   "metadata": {},
   "outputs": [],
   "source": [
    "df_covid = df_covid.replace(',','', regex=True)"
   ]
  },
  {
   "cell_type": "code",
   "execution_count": 132,
   "metadata": {},
   "outputs": [],
   "source": [
    "df_covid['Number of Tests'] = df_covid['Number of Tests'].astype(int)"
   ]
  },
  {
   "cell_type": "code",
   "execution_count": 138,
   "metadata": {},
   "outputs": [
    {
     "data": {
      "text/plain": [
       "10249823"
      ]
     },
     "execution_count": 138,
     "metadata": {},
     "output_type": "execute_result"
    }
   ],
   "source": [
    "df_covid['Number of Tests'].sum()"
   ]
  },
  {
   "cell_type": "code",
   "execution_count": 148,
   "metadata": {},
   "outputs": [
    {
     "data": {
      "text/plain": [
       "9826687"
      ]
     },
     "execution_count": 148,
     "metadata": {},
     "output_type": "execute_result"
    }
   ],
   "source": [
    "df_covid['Number of Tests'][df_covid['County'] !='Unknown/missing'].sum()"
   ]
  },
  {
   "cell_type": "markdown",
   "metadata": {},
   "source": [
    "## Answer:  According to Minnesota Department of Health Weekly COVID-19 Report updated on 7/8/2021, the total number of tests performed in Minnesota is 10,249,823.  If you don't want to count 'Unknown/missing' of county information , it is 9,826,687\n",
    "One questionn remaining... This report also says total laboratory test are 10,386,334 at the beginning. Why it's no the same number?"
   ]
  },
  {
   "cell_type": "code",
   "execution_count": 150,
   "metadata": {
    "scrolled": true
   },
   "outputs": [],
   "source": [
    "df_covid.to_csv('coviddata.csv')"
   ]
  },
  {
   "cell_type": "markdown",
   "metadata": {},
   "source": [
    "## Theme Parks\n",
    "\n",
    "Using [2019-Theme-Index-web-1.pdf](2019-Theme-Index-web-1.pdf), save a CSV of the top 10 theme park groups worldwide.\n",
    "\n",
    "* You can clean the results or you can restrict the area the table is pulled from, up to you"
   ]
  },
  {
   "cell_type": "code",
   "execution_count": 53,
   "metadata": {},
   "outputs": [
    {
     "data": {
      "text/plain": [
       "<TableList n=1>"
      ]
     },
     "execution_count": 53,
     "metadata": {},
     "output_type": "execute_result"
    }
   ],
   "source": [
    "tables = camelot.read_pdf('2019-Theme-Index-web-1.pdf', flavor='stream', pages='11', table_areas=['41,459,397,297'])\n",
    "tables"
   ]
  },
  {
   "cell_type": "code",
   "execution_count": 52,
   "metadata": {},
   "outputs": [
    {
     "data": {
      "application/javascript": [
       "/* Put everything inside the global mpl namespace */\n",
       "/* global mpl */\n",
       "window.mpl = {};\n",
       "\n",
       "mpl.get_websocket_type = function () {\n",
       "    if (typeof WebSocket !== 'undefined') {\n",
       "        return WebSocket;\n",
       "    } else if (typeof MozWebSocket !== 'undefined') {\n",
       "        return MozWebSocket;\n",
       "    } else {\n",
       "        alert(\n",
       "            'Your browser does not have WebSocket support. ' +\n",
       "                'Please try Chrome, Safari or Firefox ≥ 6. ' +\n",
       "                'Firefox 4 and 5 are also supported but you ' +\n",
       "                'have to enable WebSockets in about:config.'\n",
       "        );\n",
       "    }\n",
       "};\n",
       "\n",
       "mpl.figure = function (figure_id, websocket, ondownload, parent_element) {\n",
       "    this.id = figure_id;\n",
       "\n",
       "    this.ws = websocket;\n",
       "\n",
       "    this.supports_binary = this.ws.binaryType !== undefined;\n",
       "\n",
       "    if (!this.supports_binary) {\n",
       "        var warnings = document.getElementById('mpl-warnings');\n",
       "        if (warnings) {\n",
       "            warnings.style.display = 'block';\n",
       "            warnings.textContent =\n",
       "                'This browser does not support binary websocket messages. ' +\n",
       "                'Performance may be slow.';\n",
       "        }\n",
       "    }\n",
       "\n",
       "    this.imageObj = new Image();\n",
       "\n",
       "    this.context = undefined;\n",
       "    this.message = undefined;\n",
       "    this.canvas = undefined;\n",
       "    this.rubberband_canvas = undefined;\n",
       "    this.rubberband_context = undefined;\n",
       "    this.format_dropdown = undefined;\n",
       "\n",
       "    this.image_mode = 'full';\n",
       "\n",
       "    this.root = document.createElement('div');\n",
       "    this.root.setAttribute('style', 'display: inline-block');\n",
       "    this._root_extra_style(this.root);\n",
       "\n",
       "    parent_element.appendChild(this.root);\n",
       "\n",
       "    this._init_header(this);\n",
       "    this._init_canvas(this);\n",
       "    this._init_toolbar(this);\n",
       "\n",
       "    var fig = this;\n",
       "\n",
       "    this.waiting = false;\n",
       "\n",
       "    this.ws.onopen = function () {\n",
       "        fig.send_message('supports_binary', { value: fig.supports_binary });\n",
       "        fig.send_message('send_image_mode', {});\n",
       "        if (fig.ratio !== 1) {\n",
       "            fig.send_message('set_dpi_ratio', { dpi_ratio: fig.ratio });\n",
       "        }\n",
       "        fig.send_message('refresh', {});\n",
       "    };\n",
       "\n",
       "    this.imageObj.onload = function () {\n",
       "        if (fig.image_mode === 'full') {\n",
       "            // Full images could contain transparency (where diff images\n",
       "            // almost always do), so we need to clear the canvas so that\n",
       "            // there is no ghosting.\n",
       "            fig.context.clearRect(0, 0, fig.canvas.width, fig.canvas.height);\n",
       "        }\n",
       "        fig.context.drawImage(fig.imageObj, 0, 0);\n",
       "    };\n",
       "\n",
       "    this.imageObj.onunload = function () {\n",
       "        fig.ws.close();\n",
       "    };\n",
       "\n",
       "    this.ws.onmessage = this._make_on_message_function(this);\n",
       "\n",
       "    this.ondownload = ondownload;\n",
       "};\n",
       "\n",
       "mpl.figure.prototype._init_header = function () {\n",
       "    var titlebar = document.createElement('div');\n",
       "    titlebar.classList =\n",
       "        'ui-dialog-titlebar ui-widget-header ui-corner-all ui-helper-clearfix';\n",
       "    var titletext = document.createElement('div');\n",
       "    titletext.classList = 'ui-dialog-title';\n",
       "    titletext.setAttribute(\n",
       "        'style',\n",
       "        'width: 100%; text-align: center; padding: 3px;'\n",
       "    );\n",
       "    titlebar.appendChild(titletext);\n",
       "    this.root.appendChild(titlebar);\n",
       "    this.header = titletext;\n",
       "};\n",
       "\n",
       "mpl.figure.prototype._canvas_extra_style = function (_canvas_div) {};\n",
       "\n",
       "mpl.figure.prototype._root_extra_style = function (_canvas_div) {};\n",
       "\n",
       "mpl.figure.prototype._init_canvas = function () {\n",
       "    var fig = this;\n",
       "\n",
       "    var canvas_div = (this.canvas_div = document.createElement('div'));\n",
       "    canvas_div.setAttribute(\n",
       "        'style',\n",
       "        'border: 1px solid #ddd;' +\n",
       "            'box-sizing: content-box;' +\n",
       "            'clear: both;' +\n",
       "            'min-height: 1px;' +\n",
       "            'min-width: 1px;' +\n",
       "            'outline: 0;' +\n",
       "            'overflow: hidden;' +\n",
       "            'position: relative;' +\n",
       "            'resize: both;'\n",
       "    );\n",
       "\n",
       "    function on_keyboard_event_closure(name) {\n",
       "        return function (event) {\n",
       "            return fig.key_event(event, name);\n",
       "        };\n",
       "    }\n",
       "\n",
       "    canvas_div.addEventListener(\n",
       "        'keydown',\n",
       "        on_keyboard_event_closure('key_press')\n",
       "    );\n",
       "    canvas_div.addEventListener(\n",
       "        'keyup',\n",
       "        on_keyboard_event_closure('key_release')\n",
       "    );\n",
       "\n",
       "    this._canvas_extra_style(canvas_div);\n",
       "    this.root.appendChild(canvas_div);\n",
       "\n",
       "    var canvas = (this.canvas = document.createElement('canvas'));\n",
       "    canvas.classList.add('mpl-canvas');\n",
       "    canvas.setAttribute('style', 'box-sizing: content-box;');\n",
       "\n",
       "    this.context = canvas.getContext('2d');\n",
       "\n",
       "    var backingStore =\n",
       "        this.context.backingStorePixelRatio ||\n",
       "        this.context.webkitBackingStorePixelRatio ||\n",
       "        this.context.mozBackingStorePixelRatio ||\n",
       "        this.context.msBackingStorePixelRatio ||\n",
       "        this.context.oBackingStorePixelRatio ||\n",
       "        this.context.backingStorePixelRatio ||\n",
       "        1;\n",
       "\n",
       "    this.ratio = (window.devicePixelRatio || 1) / backingStore;\n",
       "\n",
       "    var rubberband_canvas = (this.rubberband_canvas = document.createElement(\n",
       "        'canvas'\n",
       "    ));\n",
       "    rubberband_canvas.setAttribute(\n",
       "        'style',\n",
       "        'box-sizing: content-box; position: absolute; left: 0; top: 0; z-index: 1;'\n",
       "    );\n",
       "\n",
       "    // Apply a ponyfill if ResizeObserver is not implemented by browser.\n",
       "    if (this.ResizeObserver === undefined) {\n",
       "        if (window.ResizeObserver !== undefined) {\n",
       "            this.ResizeObserver = window.ResizeObserver;\n",
       "        } else {\n",
       "            var obs = _JSXTOOLS_RESIZE_OBSERVER({});\n",
       "            this.ResizeObserver = obs.ResizeObserver;\n",
       "        }\n",
       "    }\n",
       "\n",
       "    this.resizeObserverInstance = new this.ResizeObserver(function (entries) {\n",
       "        var nentries = entries.length;\n",
       "        for (var i = 0; i < nentries; i++) {\n",
       "            var entry = entries[i];\n",
       "            var width, height;\n",
       "            if (entry.contentBoxSize) {\n",
       "                if (entry.contentBoxSize instanceof Array) {\n",
       "                    // Chrome 84 implements new version of spec.\n",
       "                    width = entry.contentBoxSize[0].inlineSize;\n",
       "                    height = entry.contentBoxSize[0].blockSize;\n",
       "                } else {\n",
       "                    // Firefox implements old version of spec.\n",
       "                    width = entry.contentBoxSize.inlineSize;\n",
       "                    height = entry.contentBoxSize.blockSize;\n",
       "                }\n",
       "            } else {\n",
       "                // Chrome <84 implements even older version of spec.\n",
       "                width = entry.contentRect.width;\n",
       "                height = entry.contentRect.height;\n",
       "            }\n",
       "\n",
       "            // Keep the size of the canvas and rubber band canvas in sync with\n",
       "            // the canvas container.\n",
       "            if (entry.devicePixelContentBoxSize) {\n",
       "                // Chrome 84 implements new version of spec.\n",
       "                canvas.setAttribute(\n",
       "                    'width',\n",
       "                    entry.devicePixelContentBoxSize[0].inlineSize\n",
       "                );\n",
       "                canvas.setAttribute(\n",
       "                    'height',\n",
       "                    entry.devicePixelContentBoxSize[0].blockSize\n",
       "                );\n",
       "            } else {\n",
       "                canvas.setAttribute('width', width * fig.ratio);\n",
       "                canvas.setAttribute('height', height * fig.ratio);\n",
       "            }\n",
       "            canvas.setAttribute(\n",
       "                'style',\n",
       "                'width: ' + width + 'px; height: ' + height + 'px;'\n",
       "            );\n",
       "\n",
       "            rubberband_canvas.setAttribute('width', width);\n",
       "            rubberband_canvas.setAttribute('height', height);\n",
       "\n",
       "            // And update the size in Python. We ignore the initial 0/0 size\n",
       "            // that occurs as the element is placed into the DOM, which should\n",
       "            // otherwise not happen due to the minimum size styling.\n",
       "            if (fig.ws.readyState == 1 && width != 0 && height != 0) {\n",
       "                fig.request_resize(width, height);\n",
       "            }\n",
       "        }\n",
       "    });\n",
       "    this.resizeObserverInstance.observe(canvas_div);\n",
       "\n",
       "    function on_mouse_event_closure(name) {\n",
       "        return function (event) {\n",
       "            return fig.mouse_event(event, name);\n",
       "        };\n",
       "    }\n",
       "\n",
       "    rubberband_canvas.addEventListener(\n",
       "        'mousedown',\n",
       "        on_mouse_event_closure('button_press')\n",
       "    );\n",
       "    rubberband_canvas.addEventListener(\n",
       "        'mouseup',\n",
       "        on_mouse_event_closure('button_release')\n",
       "    );\n",
       "    rubberband_canvas.addEventListener(\n",
       "        'dblclick',\n",
       "        on_mouse_event_closure('dblclick')\n",
       "    );\n",
       "    // Throttle sequential mouse events to 1 every 20ms.\n",
       "    rubberband_canvas.addEventListener(\n",
       "        'mousemove',\n",
       "        on_mouse_event_closure('motion_notify')\n",
       "    );\n",
       "\n",
       "    rubberband_canvas.addEventListener(\n",
       "        'mouseenter',\n",
       "        on_mouse_event_closure('figure_enter')\n",
       "    );\n",
       "    rubberband_canvas.addEventListener(\n",
       "        'mouseleave',\n",
       "        on_mouse_event_closure('figure_leave')\n",
       "    );\n",
       "\n",
       "    canvas_div.addEventListener('wheel', function (event) {\n",
       "        if (event.deltaY < 0) {\n",
       "            event.step = 1;\n",
       "        } else {\n",
       "            event.step = -1;\n",
       "        }\n",
       "        on_mouse_event_closure('scroll')(event);\n",
       "    });\n",
       "\n",
       "    canvas_div.appendChild(canvas);\n",
       "    canvas_div.appendChild(rubberband_canvas);\n",
       "\n",
       "    this.rubberband_context = rubberband_canvas.getContext('2d');\n",
       "    this.rubberband_context.strokeStyle = '#000000';\n",
       "\n",
       "    this._resize_canvas = function (width, height, forward) {\n",
       "        if (forward) {\n",
       "            canvas_div.style.width = width + 'px';\n",
       "            canvas_div.style.height = height + 'px';\n",
       "        }\n",
       "    };\n",
       "\n",
       "    // Disable right mouse context menu.\n",
       "    this.rubberband_canvas.addEventListener('contextmenu', function (_e) {\n",
       "        event.preventDefault();\n",
       "        return false;\n",
       "    });\n",
       "\n",
       "    function set_focus() {\n",
       "        canvas.focus();\n",
       "        canvas_div.focus();\n",
       "    }\n",
       "\n",
       "    window.setTimeout(set_focus, 100);\n",
       "};\n",
       "\n",
       "mpl.figure.prototype._init_toolbar = function () {\n",
       "    var fig = this;\n",
       "\n",
       "    var toolbar = document.createElement('div');\n",
       "    toolbar.classList = 'mpl-toolbar';\n",
       "    this.root.appendChild(toolbar);\n",
       "\n",
       "    function on_click_closure(name) {\n",
       "        return function (_event) {\n",
       "            return fig.toolbar_button_onclick(name);\n",
       "        };\n",
       "    }\n",
       "\n",
       "    function on_mouseover_closure(tooltip) {\n",
       "        return function (event) {\n",
       "            if (!event.currentTarget.disabled) {\n",
       "                return fig.toolbar_button_onmouseover(tooltip);\n",
       "            }\n",
       "        };\n",
       "    }\n",
       "\n",
       "    fig.buttons = {};\n",
       "    var buttonGroup = document.createElement('div');\n",
       "    buttonGroup.classList = 'mpl-button-group';\n",
       "    for (var toolbar_ind in mpl.toolbar_items) {\n",
       "        var name = mpl.toolbar_items[toolbar_ind][0];\n",
       "        var tooltip = mpl.toolbar_items[toolbar_ind][1];\n",
       "        var image = mpl.toolbar_items[toolbar_ind][2];\n",
       "        var method_name = mpl.toolbar_items[toolbar_ind][3];\n",
       "\n",
       "        if (!name) {\n",
       "            /* Instead of a spacer, we start a new button group. */\n",
       "            if (buttonGroup.hasChildNodes()) {\n",
       "                toolbar.appendChild(buttonGroup);\n",
       "            }\n",
       "            buttonGroup = document.createElement('div');\n",
       "            buttonGroup.classList = 'mpl-button-group';\n",
       "            continue;\n",
       "        }\n",
       "\n",
       "        var button = (fig.buttons[name] = document.createElement('button'));\n",
       "        button.classList = 'mpl-widget';\n",
       "        button.setAttribute('role', 'button');\n",
       "        button.setAttribute('aria-disabled', 'false');\n",
       "        button.addEventListener('click', on_click_closure(method_name));\n",
       "        button.addEventListener('mouseover', on_mouseover_closure(tooltip));\n",
       "\n",
       "        var icon_img = document.createElement('img');\n",
       "        icon_img.src = '_images/' + image + '.png';\n",
       "        icon_img.srcset = '_images/' + image + '_large.png 2x';\n",
       "        icon_img.alt = tooltip;\n",
       "        button.appendChild(icon_img);\n",
       "\n",
       "        buttonGroup.appendChild(button);\n",
       "    }\n",
       "\n",
       "    if (buttonGroup.hasChildNodes()) {\n",
       "        toolbar.appendChild(buttonGroup);\n",
       "    }\n",
       "\n",
       "    var fmt_picker = document.createElement('select');\n",
       "    fmt_picker.classList = 'mpl-widget';\n",
       "    toolbar.appendChild(fmt_picker);\n",
       "    this.format_dropdown = fmt_picker;\n",
       "\n",
       "    for (var ind in mpl.extensions) {\n",
       "        var fmt = mpl.extensions[ind];\n",
       "        var option = document.createElement('option');\n",
       "        option.selected = fmt === mpl.default_extension;\n",
       "        option.innerHTML = fmt;\n",
       "        fmt_picker.appendChild(option);\n",
       "    }\n",
       "\n",
       "    var status_bar = document.createElement('span');\n",
       "    status_bar.classList = 'mpl-message';\n",
       "    toolbar.appendChild(status_bar);\n",
       "    this.message = status_bar;\n",
       "};\n",
       "\n",
       "mpl.figure.prototype.request_resize = function (x_pixels, y_pixels) {\n",
       "    // Request matplotlib to resize the figure. Matplotlib will then trigger a resize in the client,\n",
       "    // which will in turn request a refresh of the image.\n",
       "    this.send_message('resize', { width: x_pixels, height: y_pixels });\n",
       "};\n",
       "\n",
       "mpl.figure.prototype.send_message = function (type, properties) {\n",
       "    properties['type'] = type;\n",
       "    properties['figure_id'] = this.id;\n",
       "    this.ws.send(JSON.stringify(properties));\n",
       "};\n",
       "\n",
       "mpl.figure.prototype.send_draw_message = function () {\n",
       "    if (!this.waiting) {\n",
       "        this.waiting = true;\n",
       "        this.ws.send(JSON.stringify({ type: 'draw', figure_id: this.id }));\n",
       "    }\n",
       "};\n",
       "\n",
       "mpl.figure.prototype.handle_save = function (fig, _msg) {\n",
       "    var format_dropdown = fig.format_dropdown;\n",
       "    var format = format_dropdown.options[format_dropdown.selectedIndex].value;\n",
       "    fig.ondownload(fig, format);\n",
       "};\n",
       "\n",
       "mpl.figure.prototype.handle_resize = function (fig, msg) {\n",
       "    var size = msg['size'];\n",
       "    if (size[0] !== fig.canvas.width || size[1] !== fig.canvas.height) {\n",
       "        fig._resize_canvas(size[0], size[1], msg['forward']);\n",
       "        fig.send_message('refresh', {});\n",
       "    }\n",
       "};\n",
       "\n",
       "mpl.figure.prototype.handle_rubberband = function (fig, msg) {\n",
       "    var x0 = msg['x0'] / fig.ratio;\n",
       "    var y0 = (fig.canvas.height - msg['y0']) / fig.ratio;\n",
       "    var x1 = msg['x1'] / fig.ratio;\n",
       "    var y1 = (fig.canvas.height - msg['y1']) / fig.ratio;\n",
       "    x0 = Math.floor(x0) + 0.5;\n",
       "    y0 = Math.floor(y0) + 0.5;\n",
       "    x1 = Math.floor(x1) + 0.5;\n",
       "    y1 = Math.floor(y1) + 0.5;\n",
       "    var min_x = Math.min(x0, x1);\n",
       "    var min_y = Math.min(y0, y1);\n",
       "    var width = Math.abs(x1 - x0);\n",
       "    var height = Math.abs(y1 - y0);\n",
       "\n",
       "    fig.rubberband_context.clearRect(\n",
       "        0,\n",
       "        0,\n",
       "        fig.canvas.width / fig.ratio,\n",
       "        fig.canvas.height / fig.ratio\n",
       "    );\n",
       "\n",
       "    fig.rubberband_context.strokeRect(min_x, min_y, width, height);\n",
       "};\n",
       "\n",
       "mpl.figure.prototype.handle_figure_label = function (fig, msg) {\n",
       "    // Updates the figure title.\n",
       "    fig.header.textContent = msg['label'];\n",
       "};\n",
       "\n",
       "mpl.figure.prototype.handle_cursor = function (fig, msg) {\n",
       "    var cursor = msg['cursor'];\n",
       "    switch (cursor) {\n",
       "        case 0:\n",
       "            cursor = 'pointer';\n",
       "            break;\n",
       "        case 1:\n",
       "            cursor = 'default';\n",
       "            break;\n",
       "        case 2:\n",
       "            cursor = 'crosshair';\n",
       "            break;\n",
       "        case 3:\n",
       "            cursor = 'move';\n",
       "            break;\n",
       "    }\n",
       "    fig.rubberband_canvas.style.cursor = cursor;\n",
       "};\n",
       "\n",
       "mpl.figure.prototype.handle_message = function (fig, msg) {\n",
       "    fig.message.textContent = msg['message'];\n",
       "};\n",
       "\n",
       "mpl.figure.prototype.handle_draw = function (fig, _msg) {\n",
       "    // Request the server to send over a new figure.\n",
       "    fig.send_draw_message();\n",
       "};\n",
       "\n",
       "mpl.figure.prototype.handle_image_mode = function (fig, msg) {\n",
       "    fig.image_mode = msg['mode'];\n",
       "};\n",
       "\n",
       "mpl.figure.prototype.handle_history_buttons = function (fig, msg) {\n",
       "    for (var key in msg) {\n",
       "        if (!(key in fig.buttons)) {\n",
       "            continue;\n",
       "        }\n",
       "        fig.buttons[key].disabled = !msg[key];\n",
       "        fig.buttons[key].setAttribute('aria-disabled', !msg[key]);\n",
       "    }\n",
       "};\n",
       "\n",
       "mpl.figure.prototype.handle_navigate_mode = function (fig, msg) {\n",
       "    if (msg['mode'] === 'PAN') {\n",
       "        fig.buttons['Pan'].classList.add('active');\n",
       "        fig.buttons['Zoom'].classList.remove('active');\n",
       "    } else if (msg['mode'] === 'ZOOM') {\n",
       "        fig.buttons['Pan'].classList.remove('active');\n",
       "        fig.buttons['Zoom'].classList.add('active');\n",
       "    } else {\n",
       "        fig.buttons['Pan'].classList.remove('active');\n",
       "        fig.buttons['Zoom'].classList.remove('active');\n",
       "    }\n",
       "};\n",
       "\n",
       "mpl.figure.prototype.updated_canvas_event = function () {\n",
       "    // Called whenever the canvas gets updated.\n",
       "    this.send_message('ack', {});\n",
       "};\n",
       "\n",
       "// A function to construct a web socket function for onmessage handling.\n",
       "// Called in the figure constructor.\n",
       "mpl.figure.prototype._make_on_message_function = function (fig) {\n",
       "    return function socket_on_message(evt) {\n",
       "        if (evt.data instanceof Blob) {\n",
       "            var img = evt.data;\n",
       "            if (img.type !== 'image/png') {\n",
       "                /* FIXME: We get \"Resource interpreted as Image but\n",
       "                 * transferred with MIME type text/plain:\" errors on\n",
       "                 * Chrome.  But how to set the MIME type?  It doesn't seem\n",
       "                 * to be part of the websocket stream */\n",
       "                img.type = 'image/png';\n",
       "            }\n",
       "\n",
       "            /* Free the memory for the previous frames */\n",
       "            if (fig.imageObj.src) {\n",
       "                (window.URL || window.webkitURL).revokeObjectURL(\n",
       "                    fig.imageObj.src\n",
       "                );\n",
       "            }\n",
       "\n",
       "            fig.imageObj.src = (window.URL || window.webkitURL).createObjectURL(\n",
       "                img\n",
       "            );\n",
       "            fig.updated_canvas_event();\n",
       "            fig.waiting = false;\n",
       "            return;\n",
       "        } else if (\n",
       "            typeof evt.data === 'string' &&\n",
       "            evt.data.slice(0, 21) === 'data:image/png;base64'\n",
       "        ) {\n",
       "            fig.imageObj.src = evt.data;\n",
       "            fig.updated_canvas_event();\n",
       "            fig.waiting = false;\n",
       "            return;\n",
       "        }\n",
       "\n",
       "        var msg = JSON.parse(evt.data);\n",
       "        var msg_type = msg['type'];\n",
       "\n",
       "        // Call the  \"handle_{type}\" callback, which takes\n",
       "        // the figure and JSON message as its only arguments.\n",
       "        try {\n",
       "            var callback = fig['handle_' + msg_type];\n",
       "        } catch (e) {\n",
       "            console.log(\n",
       "                \"No handler for the '\" + msg_type + \"' message type: \",\n",
       "                msg\n",
       "            );\n",
       "            return;\n",
       "        }\n",
       "\n",
       "        if (callback) {\n",
       "            try {\n",
       "                // console.log(\"Handling '\" + msg_type + \"' message: \", msg);\n",
       "                callback(fig, msg);\n",
       "            } catch (e) {\n",
       "                console.log(\n",
       "                    \"Exception inside the 'handler_\" + msg_type + \"' callback:\",\n",
       "                    e,\n",
       "                    e.stack,\n",
       "                    msg\n",
       "                );\n",
       "            }\n",
       "        }\n",
       "    };\n",
       "};\n",
       "\n",
       "// from http://stackoverflow.com/questions/1114465/getting-mouse-location-in-canvas\n",
       "mpl.findpos = function (e) {\n",
       "    //this section is from http://www.quirksmode.org/js/events_properties.html\n",
       "    var targ;\n",
       "    if (!e) {\n",
       "        e = window.event;\n",
       "    }\n",
       "    if (e.target) {\n",
       "        targ = e.target;\n",
       "    } else if (e.srcElement) {\n",
       "        targ = e.srcElement;\n",
       "    }\n",
       "    if (targ.nodeType === 3) {\n",
       "        // defeat Safari bug\n",
       "        targ = targ.parentNode;\n",
       "    }\n",
       "\n",
       "    // pageX,Y are the mouse positions relative to the document\n",
       "    var boundingRect = targ.getBoundingClientRect();\n",
       "    var x = e.pageX - (boundingRect.left + document.body.scrollLeft);\n",
       "    var y = e.pageY - (boundingRect.top + document.body.scrollTop);\n",
       "\n",
       "    return { x: x, y: y };\n",
       "};\n",
       "\n",
       "/*\n",
       " * return a copy of an object with only non-object keys\n",
       " * we need this to avoid circular references\n",
       " * http://stackoverflow.com/a/24161582/3208463\n",
       " */\n",
       "function simpleKeys(original) {\n",
       "    return Object.keys(original).reduce(function (obj, key) {\n",
       "        if (typeof original[key] !== 'object') {\n",
       "            obj[key] = original[key];\n",
       "        }\n",
       "        return obj;\n",
       "    }, {});\n",
       "}\n",
       "\n",
       "mpl.figure.prototype.mouse_event = function (event, name) {\n",
       "    var canvas_pos = mpl.findpos(event);\n",
       "\n",
       "    if (name === 'button_press') {\n",
       "        this.canvas.focus();\n",
       "        this.canvas_div.focus();\n",
       "    }\n",
       "\n",
       "    var x = canvas_pos.x * this.ratio;\n",
       "    var y = canvas_pos.y * this.ratio;\n",
       "\n",
       "    this.send_message(name, {\n",
       "        x: x,\n",
       "        y: y,\n",
       "        button: event.button,\n",
       "        step: event.step,\n",
       "        guiEvent: simpleKeys(event),\n",
       "    });\n",
       "\n",
       "    /* This prevents the web browser from automatically changing to\n",
       "     * the text insertion cursor when the button is pressed.  We want\n",
       "     * to control all of the cursor setting manually through the\n",
       "     * 'cursor' event from matplotlib */\n",
       "    event.preventDefault();\n",
       "    return false;\n",
       "};\n",
       "\n",
       "mpl.figure.prototype._key_event_extra = function (_event, _name) {\n",
       "    // Handle any extra behaviour associated with a key event\n",
       "};\n",
       "\n",
       "mpl.figure.prototype.key_event = function (event, name) {\n",
       "    // Prevent repeat events\n",
       "    if (name === 'key_press') {\n",
       "        if (event.key === this._key) {\n",
       "            return;\n",
       "        } else {\n",
       "            this._key = event.key;\n",
       "        }\n",
       "    }\n",
       "    if (name === 'key_release') {\n",
       "        this._key = null;\n",
       "    }\n",
       "\n",
       "    var value = '';\n",
       "    if (event.ctrlKey && event.key !== 'Control') {\n",
       "        value += 'ctrl+';\n",
       "    }\n",
       "    else if (event.altKey && event.key !== 'Alt') {\n",
       "        value += 'alt+';\n",
       "    }\n",
       "    else if (event.shiftKey && event.key !== 'Shift') {\n",
       "        value += 'shift+';\n",
       "    }\n",
       "\n",
       "    value += 'k' + event.key;\n",
       "\n",
       "    this._key_event_extra(event, name);\n",
       "\n",
       "    this.send_message(name, { key: value, guiEvent: simpleKeys(event) });\n",
       "    return false;\n",
       "};\n",
       "\n",
       "mpl.figure.prototype.toolbar_button_onclick = function (name) {\n",
       "    if (name === 'download') {\n",
       "        this.handle_save(this, null);\n",
       "    } else {\n",
       "        this.send_message('toolbar_button', { name: name });\n",
       "    }\n",
       "};\n",
       "\n",
       "mpl.figure.prototype.toolbar_button_onmouseover = function (tooltip) {\n",
       "    this.message.textContent = tooltip;\n",
       "};\n",
       "\n",
       "///////////////// REMAINING CONTENT GENERATED BY embed_js.py /////////////////\n",
       "// prettier-ignore\n",
       "var _JSXTOOLS_RESIZE_OBSERVER=function(A){var t,i=new WeakMap,n=new WeakMap,a=new WeakMap,r=new WeakMap,o=new Set;function s(e){if(!(this instanceof s))throw new TypeError(\"Constructor requires 'new' operator\");i.set(this,e)}function h(){throw new TypeError(\"Function is not a constructor\")}function c(e,t,i,n){e=0 in arguments?Number(arguments[0]):0,t=1 in arguments?Number(arguments[1]):0,i=2 in arguments?Number(arguments[2]):0,n=3 in arguments?Number(arguments[3]):0,this.right=(this.x=this.left=e)+(this.width=i),this.bottom=(this.y=this.top=t)+(this.height=n),Object.freeze(this)}function d(){t=requestAnimationFrame(d);var s=new WeakMap,p=new Set;o.forEach((function(t){r.get(t).forEach((function(i){var r=t instanceof window.SVGElement,o=a.get(t),d=r?0:parseFloat(o.paddingTop),f=r?0:parseFloat(o.paddingRight),l=r?0:parseFloat(o.paddingBottom),u=r?0:parseFloat(o.paddingLeft),g=r?0:parseFloat(o.borderTopWidth),m=r?0:parseFloat(o.borderRightWidth),w=r?0:parseFloat(o.borderBottomWidth),b=u+f,F=d+l,v=(r?0:parseFloat(o.borderLeftWidth))+m,W=g+w,y=r?0:t.offsetHeight-W-t.clientHeight,E=r?0:t.offsetWidth-v-t.clientWidth,R=b+v,z=F+W,M=r?t.width:parseFloat(o.width)-R-E,O=r?t.height:parseFloat(o.height)-z-y;if(n.has(t)){var k=n.get(t);if(k[0]===M&&k[1]===O)return}n.set(t,[M,O]);var S=Object.create(h.prototype);S.target=t,S.contentRect=new c(u,d,M,O),s.has(i)||(s.set(i,[]),p.add(i)),s.get(i).push(S)}))})),p.forEach((function(e){i.get(e).call(e,s.get(e),e)}))}return s.prototype.observe=function(i){if(i instanceof window.Element){r.has(i)||(r.set(i,new Set),o.add(i),a.set(i,window.getComputedStyle(i)));var n=r.get(i);n.has(this)||n.add(this),cancelAnimationFrame(t),t=requestAnimationFrame(d)}},s.prototype.unobserve=function(i){if(i instanceof window.Element&&r.has(i)){var n=r.get(i);n.has(this)&&(n.delete(this),n.size||(r.delete(i),o.delete(i))),n.size||r.delete(i),o.size||cancelAnimationFrame(t)}},A.DOMRectReadOnly=c,A.ResizeObserver=s,A.ResizeObserverEntry=h,A}; // eslint-disable-line\n",
       "mpl.toolbar_items = [[\"Home\", \"Reset original view\", \"fa fa-home icon-home\", \"home\"], [\"Back\", \"Back to previous view\", \"fa fa-arrow-left icon-arrow-left\", \"back\"], [\"Forward\", \"Forward to next view\", \"fa fa-arrow-right icon-arrow-right\", \"forward\"], [\"\", \"\", \"\", \"\"], [\"Pan\", \"Left button pans, Right button zooms\\nx/y fixes axis, CTRL fixes aspect\", \"fa fa-arrows icon-move\", \"pan\"], [\"Zoom\", \"Zoom to rectangle\\nx/y fixes axis, CTRL fixes aspect\", \"fa fa-square-o icon-check-empty\", \"zoom\"], [\"\", \"\", \"\", \"\"], [\"Download\", \"Download plot\", \"fa fa-floppy-o icon-save\", \"download\"]];\n",
       "\n",
       "mpl.extensions = [\"eps\", \"jpeg\", \"pgf\", \"pdf\", \"png\", \"ps\", \"raw\", \"svg\", \"tif\"];\n",
       "\n",
       "mpl.default_extension = \"png\";/* global mpl */\n",
       "\n",
       "var comm_websocket_adapter = function (comm) {\n",
       "    // Create a \"websocket\"-like object which calls the given IPython comm\n",
       "    // object with the appropriate methods. Currently this is a non binary\n",
       "    // socket, so there is still some room for performance tuning.\n",
       "    var ws = {};\n",
       "\n",
       "    ws.binaryType = comm.kernel.ws.binaryType;\n",
       "    ws.readyState = comm.kernel.ws.readyState;\n",
       "    function updateReadyState(_event) {\n",
       "        if (comm.kernel.ws) {\n",
       "            ws.readyState = comm.kernel.ws.readyState;\n",
       "        } else {\n",
       "            ws.readyState = 3; // Closed state.\n",
       "        }\n",
       "    }\n",
       "    comm.kernel.ws.addEventListener('open', updateReadyState);\n",
       "    comm.kernel.ws.addEventListener('close', updateReadyState);\n",
       "    comm.kernel.ws.addEventListener('error', updateReadyState);\n",
       "\n",
       "    ws.close = function () {\n",
       "        comm.close();\n",
       "    };\n",
       "    ws.send = function (m) {\n",
       "        //console.log('sending', m);\n",
       "        comm.send(m);\n",
       "    };\n",
       "    // Register the callback with on_msg.\n",
       "    comm.on_msg(function (msg) {\n",
       "        //console.log('receiving', msg['content']['data'], msg);\n",
       "        var data = msg['content']['data'];\n",
       "        if (data['blob'] !== undefined) {\n",
       "            data = {\n",
       "                data: new Blob(msg['buffers'], { type: data['blob'] }),\n",
       "            };\n",
       "        }\n",
       "        // Pass the mpl event to the overridden (by mpl) onmessage function.\n",
       "        ws.onmessage(data);\n",
       "    });\n",
       "    return ws;\n",
       "};\n",
       "\n",
       "mpl.mpl_figure_comm = function (comm, msg) {\n",
       "    // This is the function which gets called when the mpl process\n",
       "    // starts-up an IPython Comm through the \"matplotlib\" channel.\n",
       "\n",
       "    var id = msg.content.data.id;\n",
       "    // Get hold of the div created by the display call when the Comm\n",
       "    // socket was opened in Python.\n",
       "    var element = document.getElementById(id);\n",
       "    var ws_proxy = comm_websocket_adapter(comm);\n",
       "\n",
       "    function ondownload(figure, _format) {\n",
       "        window.open(figure.canvas.toDataURL());\n",
       "    }\n",
       "\n",
       "    var fig = new mpl.figure(id, ws_proxy, ondownload, element);\n",
       "\n",
       "    // Call onopen now - mpl needs it, as it is assuming we've passed it a real\n",
       "    // web socket which is closed, not our websocket->open comm proxy.\n",
       "    ws_proxy.onopen();\n",
       "\n",
       "    fig.parent_element = element;\n",
       "    fig.cell_info = mpl.find_output_cell(\"<div id='\" + id + \"'></div>\");\n",
       "    if (!fig.cell_info) {\n",
       "        console.error('Failed to find cell for figure', id, fig);\n",
       "        return;\n",
       "    }\n",
       "    fig.cell_info[0].output_area.element.on(\n",
       "        'cleared',\n",
       "        { fig: fig },\n",
       "        fig._remove_fig_handler\n",
       "    );\n",
       "};\n",
       "\n",
       "mpl.figure.prototype.handle_close = function (fig, msg) {\n",
       "    var width = fig.canvas.width / fig.ratio;\n",
       "    fig.cell_info[0].output_area.element.off(\n",
       "        'cleared',\n",
       "        fig._remove_fig_handler\n",
       "    );\n",
       "    fig.resizeObserverInstance.unobserve(fig.canvas_div);\n",
       "\n",
       "    // Update the output cell to use the data from the current canvas.\n",
       "    fig.push_to_output();\n",
       "    var dataURL = fig.canvas.toDataURL();\n",
       "    // Re-enable the keyboard manager in IPython - without this line, in FF,\n",
       "    // the notebook keyboard shortcuts fail.\n",
       "    IPython.keyboard_manager.enable();\n",
       "    fig.parent_element.innerHTML =\n",
       "        '<img src=\"' + dataURL + '\" width=\"' + width + '\">';\n",
       "    fig.close_ws(fig, msg);\n",
       "};\n",
       "\n",
       "mpl.figure.prototype.close_ws = function (fig, msg) {\n",
       "    fig.send_message('closing', msg);\n",
       "    // fig.ws.close()\n",
       "};\n",
       "\n",
       "mpl.figure.prototype.push_to_output = function (_remove_interactive) {\n",
       "    // Turn the data on the canvas into data in the output cell.\n",
       "    var width = this.canvas.width / this.ratio;\n",
       "    var dataURL = this.canvas.toDataURL();\n",
       "    this.cell_info[1]['text/html'] =\n",
       "        '<img src=\"' + dataURL + '\" width=\"' + width + '\">';\n",
       "};\n",
       "\n",
       "mpl.figure.prototype.updated_canvas_event = function () {\n",
       "    // Tell IPython that the notebook contents must change.\n",
       "    IPython.notebook.set_dirty(true);\n",
       "    this.send_message('ack', {});\n",
       "    var fig = this;\n",
       "    // Wait a second, then push the new image to the DOM so\n",
       "    // that it is saved nicely (might be nice to debounce this).\n",
       "    setTimeout(function () {\n",
       "        fig.push_to_output();\n",
       "    }, 1000);\n",
       "};\n",
       "\n",
       "mpl.figure.prototype._init_toolbar = function () {\n",
       "    var fig = this;\n",
       "\n",
       "    var toolbar = document.createElement('div');\n",
       "    toolbar.classList = 'btn-toolbar';\n",
       "    this.root.appendChild(toolbar);\n",
       "\n",
       "    function on_click_closure(name) {\n",
       "        return function (_event) {\n",
       "            return fig.toolbar_button_onclick(name);\n",
       "        };\n",
       "    }\n",
       "\n",
       "    function on_mouseover_closure(tooltip) {\n",
       "        return function (event) {\n",
       "            if (!event.currentTarget.disabled) {\n",
       "                return fig.toolbar_button_onmouseover(tooltip);\n",
       "            }\n",
       "        };\n",
       "    }\n",
       "\n",
       "    fig.buttons = {};\n",
       "    var buttonGroup = document.createElement('div');\n",
       "    buttonGroup.classList = 'btn-group';\n",
       "    var button;\n",
       "    for (var toolbar_ind in mpl.toolbar_items) {\n",
       "        var name = mpl.toolbar_items[toolbar_ind][0];\n",
       "        var tooltip = mpl.toolbar_items[toolbar_ind][1];\n",
       "        var image = mpl.toolbar_items[toolbar_ind][2];\n",
       "        var method_name = mpl.toolbar_items[toolbar_ind][3];\n",
       "\n",
       "        if (!name) {\n",
       "            /* Instead of a spacer, we start a new button group. */\n",
       "            if (buttonGroup.hasChildNodes()) {\n",
       "                toolbar.appendChild(buttonGroup);\n",
       "            }\n",
       "            buttonGroup = document.createElement('div');\n",
       "            buttonGroup.classList = 'btn-group';\n",
       "            continue;\n",
       "        }\n",
       "\n",
       "        button = fig.buttons[name] = document.createElement('button');\n",
       "        button.classList = 'btn btn-default';\n",
       "        button.href = '#';\n",
       "        button.title = name;\n",
       "        button.innerHTML = '<i class=\"fa ' + image + ' fa-lg\"></i>';\n",
       "        button.addEventListener('click', on_click_closure(method_name));\n",
       "        button.addEventListener('mouseover', on_mouseover_closure(tooltip));\n",
       "        buttonGroup.appendChild(button);\n",
       "    }\n",
       "\n",
       "    if (buttonGroup.hasChildNodes()) {\n",
       "        toolbar.appendChild(buttonGroup);\n",
       "    }\n",
       "\n",
       "    // Add the status bar.\n",
       "    var status_bar = document.createElement('span');\n",
       "    status_bar.classList = 'mpl-message pull-right';\n",
       "    toolbar.appendChild(status_bar);\n",
       "    this.message = status_bar;\n",
       "\n",
       "    // Add the close button to the window.\n",
       "    var buttongrp = document.createElement('div');\n",
       "    buttongrp.classList = 'btn-group inline pull-right';\n",
       "    button = document.createElement('button');\n",
       "    button.classList = 'btn btn-mini btn-primary';\n",
       "    button.href = '#';\n",
       "    button.title = 'Stop Interaction';\n",
       "    button.innerHTML = '<i class=\"fa fa-power-off icon-remove icon-large\"></i>';\n",
       "    button.addEventListener('click', function (_evt) {\n",
       "        fig.handle_close(fig, {});\n",
       "    });\n",
       "    button.addEventListener(\n",
       "        'mouseover',\n",
       "        on_mouseover_closure('Stop Interaction')\n",
       "    );\n",
       "    buttongrp.appendChild(button);\n",
       "    var titlebar = this.root.querySelector('.ui-dialog-titlebar');\n",
       "    titlebar.insertBefore(buttongrp, titlebar.firstChild);\n",
       "};\n",
       "\n",
       "mpl.figure.prototype._remove_fig_handler = function (event) {\n",
       "    var fig = event.data.fig;\n",
       "    if (event.target !== this) {\n",
       "        // Ignore bubbled events from children.\n",
       "        return;\n",
       "    }\n",
       "    fig.close_ws(fig, {});\n",
       "};\n",
       "\n",
       "mpl.figure.prototype._root_extra_style = function (el) {\n",
       "    el.style.boxSizing = 'content-box'; // override notebook setting of border-box.\n",
       "};\n",
       "\n",
       "mpl.figure.prototype._canvas_extra_style = function (el) {\n",
       "    // this is important to make the div 'focusable\n",
       "    el.setAttribute('tabindex', 0);\n",
       "    // reach out to IPython and tell the keyboard manager to turn it's self\n",
       "    // off when our div gets focus\n",
       "\n",
       "    // location in version 3\n",
       "    if (IPython.notebook.keyboard_manager) {\n",
       "        IPython.notebook.keyboard_manager.register_events(el);\n",
       "    } else {\n",
       "        // location in version 2\n",
       "        IPython.keyboard_manager.register_events(el);\n",
       "    }\n",
       "};\n",
       "\n",
       "mpl.figure.prototype._key_event_extra = function (event, _name) {\n",
       "    var manager = IPython.notebook.keyboard_manager;\n",
       "    if (!manager) {\n",
       "        manager = IPython.keyboard_manager;\n",
       "    }\n",
       "\n",
       "    // Check for shift+enter\n",
       "    if (event.shiftKey && event.which === 13) {\n",
       "        this.canvas_div.blur();\n",
       "        // select the cell after this one\n",
       "        var index = IPython.notebook.find_cell_index(this.cell_info[0]);\n",
       "        IPython.notebook.select(index + 1);\n",
       "    }\n",
       "};\n",
       "\n",
       "mpl.figure.prototype.handle_save = function (fig, _msg) {\n",
       "    fig.ondownload(fig, null);\n",
       "};\n",
       "\n",
       "mpl.find_output_cell = function (html_output) {\n",
       "    // Return the cell and output element which can be found *uniquely* in the notebook.\n",
       "    // Note - this is a bit hacky, but it is done because the \"notebook_saving.Notebook\"\n",
       "    // IPython event is triggered only after the cells have been serialised, which for\n",
       "    // our purposes (turning an active figure into a static one), is too late.\n",
       "    var cells = IPython.notebook.get_cells();\n",
       "    var ncells = cells.length;\n",
       "    for (var i = 0; i < ncells; i++) {\n",
       "        var cell = cells[i];\n",
       "        if (cell.cell_type === 'code') {\n",
       "            for (var j = 0; j < cell.output_area.outputs.length; j++) {\n",
       "                var data = cell.output_area.outputs[j];\n",
       "                if (data.data) {\n",
       "                    // IPython >= 3 moved mimebundle to data attribute of output\n",
       "                    data = data.data;\n",
       "                }\n",
       "                if (data['text/html'] === html_output) {\n",
       "                    return [cell, data, j];\n",
       "                }\n",
       "            }\n",
       "        }\n",
       "    }\n",
       "};\n",
       "\n",
       "// Register the function which deals with the matplotlib target/channel.\n",
       "// The kernel may be null if the page has been refreshed.\n",
       "if (IPython.notebook.kernel !== null) {\n",
       "    IPython.notebook.kernel.comm_manager.register_target(\n",
       "        'matplotlib',\n",
       "        mpl.mpl_figure_comm\n",
       "    );\n",
       "}\n"
      ],
      "text/plain": [
       "<IPython.core.display.Javascript object>"
      ]
     },
     "metadata": {},
     "output_type": "display_data"
    },
    {
     "data": {
      "text/html": [
       "<img src=\"data:image/png;base64,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\" width=\"640\">"
      ],
      "text/plain": [
       "<IPython.core.display.HTML object>"
      ]
     },
     "metadata": {},
     "output_type": "display_data"
    }
   ],
   "source": [
    "%matplotlib notebook\n",
    "camelot.plot(tables[0]).show()"
   ]
  },
  {
   "cell_type": "code",
   "execution_count": 56,
   "metadata": {},
   "outputs": [],
   "source": [
    "themepark = tables[0].df"
   ]
  },
  {
   "cell_type": "code",
   "execution_count": 58,
   "metadata": {},
   "outputs": [
    {
     "data": {
      "text/html": [
       "<div>\n",
       "<style scoped>\n",
       "    .dataframe tbody tr th:only-of-type {\n",
       "        vertical-align: middle;\n",
       "    }\n",
       "\n",
       "    .dataframe tbody tr th {\n",
       "        vertical-align: top;\n",
       "    }\n",
       "\n",
       "    .dataframe thead th {\n",
       "        text-align: right;\n",
       "    }\n",
       "</style>\n",
       "<table border=\"1\" class=\"dataframe\">\n",
       "  <thead>\n",
       "    <tr style=\"text-align: right;\">\n",
       "      <th></th>\n",
       "      <th>0</th>\n",
       "      <th>1</th>\n",
       "      <th>2</th>\n",
       "      <th>3</th>\n",
       "      <th>4</th>\n",
       "    </tr>\n",
       "  </thead>\n",
       "  <tbody>\n",
       "    <tr>\n",
       "      <th>0</th>\n",
       "      <td>1</td>\n",
       "      <td>WALT DISNEY ATTRACTIONS</td>\n",
       "      <td>-0.8%</td>\n",
       "      <td>155,991,000</td>\n",
       "      <td>157,311,000</td>\n",
       "    </tr>\n",
       "    <tr>\n",
       "      <th>1</th>\n",
       "      <td>2</td>\n",
       "      <td>MERLIN ENTERTAINMENTS GROUP</td>\n",
       "      <td>0.9%</td>\n",
       "      <td>67,000,000</td>\n",
       "      <td>66,400,000*</td>\n",
       "    </tr>\n",
       "    <tr>\n",
       "      <th>2</th>\n",
       "      <td>3</td>\n",
       "      <td>OCT PARKS CHINA</td>\n",
       "      <td>9.4%</td>\n",
       "      <td>53,970,000</td>\n",
       "      <td>49,350,000</td>\n",
       "    </tr>\n",
       "    <tr>\n",
       "      <th>3</th>\n",
       "      <td>4</td>\n",
       "      <td>UNIVERSAL PARKS AND RESORTS</td>\n",
       "      <td>2.3%</td>\n",
       "      <td>51,243,000</td>\n",
       "      <td>50,068,000</td>\n",
       "    </tr>\n",
       "    <tr>\n",
       "      <th>4</th>\n",
       "      <td>5</td>\n",
       "      <td>FANTAWILD GROUP</td>\n",
       "      <td>19.8%</td>\n",
       "      <td>50,393,000</td>\n",
       "      <td>42,074,000</td>\n",
       "    </tr>\n",
       "    <tr>\n",
       "      <th>5</th>\n",
       "      <td>6</td>\n",
       "      <td>CHIMELONG GROUP</td>\n",
       "      <td>8.9%</td>\n",
       "      <td>37,018,000</td>\n",
       "      <td>34,007,000</td>\n",
       "    </tr>\n",
       "    <tr>\n",
       "      <th>6</th>\n",
       "      <td>7</td>\n",
       "      <td>SIX FLAGS INC.</td>\n",
       "      <td>2.5%</td>\n",
       "      <td>32,811,000</td>\n",
       "      <td>32,024,000</td>\n",
       "    </tr>\n",
       "    <tr>\n",
       "      <th>7</th>\n",
       "      <td>8</td>\n",
       "      <td>CEDAR FAIR ENTERTAINMENT COMPANY</td>\n",
       "      <td>7.8%</td>\n",
       "      <td>27,938,000</td>\n",
       "      <td>25,912,000</td>\n",
       "    </tr>\n",
       "    <tr>\n",
       "      <th>8</th>\n",
       "      <td>9</td>\n",
       "      <td>SEAWORLD PARKS &amp; ENTERTAINMENT</td>\n",
       "      <td>0.2%</td>\n",
       "      <td>22,624,000</td>\n",
       "      <td>22,582,000</td>\n",
       "    </tr>\n",
       "    <tr>\n",
       "      <th>9</th>\n",
       "      <td>10</td>\n",
       "      <td>PARQUES REUNIDOS</td>\n",
       "      <td>6.2%</td>\n",
       "      <td>22,195,000</td>\n",
       "      <td>20,900,000</td>\n",
       "    </tr>\n",
       "  </tbody>\n",
       "</table>\n",
       "</div>"
      ],
      "text/plain": [
       "    0                                 1      2            3            4\n",
       "0   1           WALT DISNEY ATTRACTIONS  -0.8%  155,991,000  157,311,000\n",
       "1   2       MERLIN ENTERTAINMENTS GROUP   0.9%   67,000,000  66,400,000*\n",
       "2   3                   OCT PARKS CHINA   9.4%   53,970,000   49,350,000\n",
       "3   4       UNIVERSAL PARKS AND RESORTS   2.3%   51,243,000   50,068,000\n",
       "4   5                   FANTAWILD GROUP  19.8%   50,393,000   42,074,000\n",
       "5   6                   CHIMELONG GROUP   8.9%   37,018,000   34,007,000\n",
       "6   7                    SIX FLAGS INC.   2.5%   32,811,000   32,024,000\n",
       "7   8  CEDAR FAIR ENTERTAINMENT COMPANY   7.8%   27,938,000   25,912,000\n",
       "8   9    SEAWORLD PARKS & ENTERTAINMENT   0.2%   22,624,000   22,582,000\n",
       "9  10                  PARQUES REUNIDOS   6.2%   22,195,000   20,900,000"
      ]
     },
     "execution_count": 58,
     "metadata": {},
     "output_type": "execute_result"
    }
   ],
   "source": [
    "themepark"
   ]
  },
  {
   "cell_type": "code",
   "execution_count": 62,
   "metadata": {},
   "outputs": [],
   "source": [
    "themepark = themepark.rename(columns = {0:'RANK', 1:'GROUP NAME', 2:'%CHANGE', 3: 'ATTENDANCE2019', 4:'ATTENDANCE2018'})"
   ]
  },
  {
   "cell_type": "code",
   "execution_count": 65,
   "metadata": {},
   "outputs": [],
   "source": [
    "themepark = themepark.replace('66,400,000*','66,400,000')"
   ]
  },
  {
   "cell_type": "code",
   "execution_count": 69,
   "metadata": {},
   "outputs": [],
   "source": [
    "themepark =  themepark.set_index('RANK')"
   ]
  },
  {
   "cell_type": "code",
   "execution_count": 70,
   "metadata": {},
   "outputs": [
    {
     "data": {
      "text/html": [
       "<div>\n",
       "<style scoped>\n",
       "    .dataframe tbody tr th:only-of-type {\n",
       "        vertical-align: middle;\n",
       "    }\n",
       "\n",
       "    .dataframe tbody tr th {\n",
       "        vertical-align: top;\n",
       "    }\n",
       "\n",
       "    .dataframe thead th {\n",
       "        text-align: right;\n",
       "    }\n",
       "</style>\n",
       "<table border=\"1\" class=\"dataframe\">\n",
       "  <thead>\n",
       "    <tr style=\"text-align: right;\">\n",
       "      <th></th>\n",
       "      <th>GROUP NAME</th>\n",
       "      <th>%CHANGE</th>\n",
       "      <th>ATTENDANCE2019</th>\n",
       "      <th>ATTENDANCE2018</th>\n",
       "    </tr>\n",
       "    <tr>\n",
       "      <th>RANK</th>\n",
       "      <th></th>\n",
       "      <th></th>\n",
       "      <th></th>\n",
       "      <th></th>\n",
       "    </tr>\n",
       "  </thead>\n",
       "  <tbody>\n",
       "    <tr>\n",
       "      <th>1</th>\n",
       "      <td>WALT DISNEY ATTRACTIONS</td>\n",
       "      <td>-0.8%</td>\n",
       "      <td>155,991,000</td>\n",
       "      <td>157,311,000</td>\n",
       "    </tr>\n",
       "    <tr>\n",
       "      <th>2</th>\n",
       "      <td>MERLIN ENTERTAINMENTS GROUP</td>\n",
       "      <td>0.9%</td>\n",
       "      <td>67,000,000</td>\n",
       "      <td>66,400,000</td>\n",
       "    </tr>\n",
       "    <tr>\n",
       "      <th>3</th>\n",
       "      <td>OCT PARKS CHINA</td>\n",
       "      <td>9.4%</td>\n",
       "      <td>53,970,000</td>\n",
       "      <td>49,350,000</td>\n",
       "    </tr>\n",
       "    <tr>\n",
       "      <th>4</th>\n",
       "      <td>UNIVERSAL PARKS AND RESORTS</td>\n",
       "      <td>2.3%</td>\n",
       "      <td>51,243,000</td>\n",
       "      <td>50,068,000</td>\n",
       "    </tr>\n",
       "    <tr>\n",
       "      <th>5</th>\n",
       "      <td>FANTAWILD GROUP</td>\n",
       "      <td>19.8%</td>\n",
       "      <td>50,393,000</td>\n",
       "      <td>42,074,000</td>\n",
       "    </tr>\n",
       "    <tr>\n",
       "      <th>6</th>\n",
       "      <td>CHIMELONG GROUP</td>\n",
       "      <td>8.9%</td>\n",
       "      <td>37,018,000</td>\n",
       "      <td>34,007,000</td>\n",
       "    </tr>\n",
       "    <tr>\n",
       "      <th>7</th>\n",
       "      <td>SIX FLAGS INC.</td>\n",
       "      <td>2.5%</td>\n",
       "      <td>32,811,000</td>\n",
       "      <td>32,024,000</td>\n",
       "    </tr>\n",
       "    <tr>\n",
       "      <th>8</th>\n",
       "      <td>CEDAR FAIR ENTERTAINMENT COMPANY</td>\n",
       "      <td>7.8%</td>\n",
       "      <td>27,938,000</td>\n",
       "      <td>25,912,000</td>\n",
       "    </tr>\n",
       "    <tr>\n",
       "      <th>9</th>\n",
       "      <td>SEAWORLD PARKS &amp; ENTERTAINMENT</td>\n",
       "      <td>0.2%</td>\n",
       "      <td>22,624,000</td>\n",
       "      <td>22,582,000</td>\n",
       "    </tr>\n",
       "    <tr>\n",
       "      <th>10</th>\n",
       "      <td>PARQUES REUNIDOS</td>\n",
       "      <td>6.2%</td>\n",
       "      <td>22,195,000</td>\n",
       "      <td>20,900,000</td>\n",
       "    </tr>\n",
       "  </tbody>\n",
       "</table>\n",
       "</div>"
      ],
      "text/plain": [
       "                            GROUP NAME %CHANGE ATTENDANCE2019 ATTENDANCE2018\n",
       "RANK                                                                        \n",
       "1              WALT DISNEY ATTRACTIONS   -0.8%    155,991,000    157,311,000\n",
       "2          MERLIN ENTERTAINMENTS GROUP    0.9%     67,000,000     66,400,000\n",
       "3                      OCT PARKS CHINA    9.4%     53,970,000     49,350,000\n",
       "4          UNIVERSAL PARKS AND RESORTS    2.3%     51,243,000     50,068,000\n",
       "5                      FANTAWILD GROUP   19.8%     50,393,000     42,074,000\n",
       "6                      CHIMELONG GROUP    8.9%     37,018,000     34,007,000\n",
       "7                       SIX FLAGS INC.    2.5%     32,811,000     32,024,000\n",
       "8     CEDAR FAIR ENTERTAINMENT COMPANY    7.8%     27,938,000     25,912,000\n",
       "9       SEAWORLD PARKS & ENTERTAINMENT    0.2%     22,624,000     22,582,000\n",
       "10                    PARQUES REUNIDOS    6.2%     22,195,000     20,900,000"
      ]
     },
     "execution_count": 70,
     "metadata": {},
     "output_type": "execute_result"
    }
   ],
   "source": [
    "themepark"
   ]
  },
  {
   "cell_type": "code",
   "execution_count": 72,
   "metadata": {},
   "outputs": [],
   "source": [
    "themepark.to_csv('top10-themepark-companies.csv')"
   ]
  },
  {
   "cell_type": "markdown",
   "metadata": {},
   "source": [
    "## Hunting licenses\n",
    "\n",
    "Using [US_Fish_and_Wildlife_Service_2021.pdf](US_Fish_and_Wildlife_Service_2021.pdf) and [a CSV of state populations](http://goodcsv.com/geography/us-states-territories/), find the states with the highest per-capita hunting license holders."
   ]
  },
  {
   "cell_type": "code",
   "execution_count": 3,
   "metadata": {},
   "outputs": [
    {
     "data": {
      "text/plain": [
       "<TableList n=1>"
      ]
     },
     "execution_count": 3,
     "metadata": {},
     "output_type": "execute_result"
    }
   ],
   "source": [
    "tables = camelot.read_pdf('US_Fish_and_Wildlife_Service_2021.pdf', flavor='lattice', pages='1')\n",
    "tables"
   ]
  },
  {
   "cell_type": "code",
   "execution_count": 4,
   "metadata": {},
   "outputs": [],
   "source": [
    "df_hunt = tables[0].df"
   ]
  },
  {
   "cell_type": "markdown",
   "metadata": {},
   "source": [
    "### We just need the data of 'state' and 'Paid Hunting License Holders'"
   ]
  },
  {
   "cell_type": "code",
   "execution_count": 7,
   "metadata": {},
   "outputs": [],
   "source": [
    "df_hunt = df_hunt[[0,1]].replace(',','', regex=True)"
   ]
  },
  {
   "cell_type": "code",
   "execution_count": 9,
   "metadata": {},
   "outputs": [],
   "source": [
    "df_hunt.columns = df_hunt.loc[0]\n",
    "df_hunt = df_hunt.drop(0)"
   ]
  },
  {
   "cell_type": "code",
   "execution_count": 11,
   "metadata": {},
   "outputs": [],
   "source": [
    "df_hunt = df_hunt.rename(columns={'Paid Hunting License \\nHolders*': 'Paid Hunting License Holders'})"
   ]
  },
  {
   "cell_type": "code",
   "execution_count": 13,
   "metadata": {},
   "outputs": [],
   "source": [
    "df_hunt['Paid Hunting License Holders'] = df_hunt['Paid Hunting License Holders'].astype(int)"
   ]
  },
  {
   "cell_type": "markdown",
   "metadata": {},
   "source": [
    "### remove territories except DC"
   ]
  },
  {
   "cell_type": "code",
   "execution_count": 39,
   "metadata": {},
   "outputs": [],
   "source": [
    "df_hunt = df_hunt[(df_hunt.State !='AS')&(df_hunt.State !='GU')&(df_hunt.State !='MP')&(df_hunt.State !='PR')&(df_hunt.State !='VI')&(df_hunt.State !='Total:')]"
   ]
  },
  {
   "cell_type": "code",
   "execution_count": 19,
   "metadata": {},
   "outputs": [],
   "source": [
    "# len(df_hunt)\n",
    "# df_hunt.dtypes"
   ]
  },
  {
   "cell_type": "code",
   "execution_count": 15,
   "metadata": {},
   "outputs": [],
   "source": [
    "df_pop = pd.read_csv('us-states-territories.csv')"
   ]
  },
  {
   "cell_type": "code",
   "execution_count": 20,
   "metadata": {},
   "outputs": [],
   "source": [
    "df_pop = df_pop[(df_pop.Type != 'Territory')]"
   ]
  },
  {
   "cell_type": "code",
   "execution_count": 26,
   "metadata": {},
   "outputs": [],
   "source": [
    "df_pop1 = df_pop[['Name','Abbreviation','Population (2019)' ]].replace(',','', regex=True)"
   ]
  },
  {
   "cell_type": "code",
   "execution_count": 27,
   "metadata": {},
   "outputs": [],
   "source": [
    "df_pop1['Population (2019)'] = df_pop1['Population (2019)'].astype(int)"
   ]
  },
  {
   "cell_type": "code",
   "execution_count": 32,
   "metadata": {
    "scrolled": false
   },
   "outputs": [],
   "source": [
    "# len(df_pop1)\n",
    "# df_pop1.dtypes"
   ]
  },
  {
   "cell_type": "code",
   "execution_count": 34,
   "metadata": {},
   "outputs": [],
   "source": [
    "df_pop1 = df_pop1.sort_values(by = 'Abbreviation', ascending=True)"
   ]
  },
  {
   "cell_type": "code",
   "execution_count": 42,
   "metadata": {
    "scrolled": true
   },
   "outputs": [],
   "source": [
    "df_pop1 = df_pop1.reset_index(drop=True)"
   ]
  },
  {
   "cell_type": "code",
   "execution_count": 43,
   "metadata": {},
   "outputs": [],
   "source": [
    "df_hunt = df_hunt.reset_index(drop=True)"
   ]
  },
  {
   "cell_type": "code",
   "execution_count": 45,
   "metadata": {},
   "outputs": [],
   "source": [
    "df_huntpop = df_hunt.join(df_pop1)"
   ]
  },
  {
   "cell_type": "code",
   "execution_count": 49,
   "metadata": {},
   "outputs": [],
   "source": [
    "df_huntpop = df_huntpop[['Name','Paid Hunting License Holders','Population (2019)']]"
   ]
  },
  {
   "cell_type": "code",
   "execution_count": 55,
   "metadata": {},
   "outputs": [
    {
     "name": "stderr",
     "output_type": "stream",
     "text": [
      "<ipython-input-55-c52699798cbd>:1: SettingWithCopyWarning: \n",
      "A value is trying to be set on a copy of a slice from a DataFrame.\n",
      "Try using .loc[row_indexer,col_indexer] = value instead\n",
      "\n",
      "See the caveats in the documentation: https://pandas.pydata.org/pandas-docs/stable/user_guide/indexing.html#returning-a-view-versus-a-copy\n",
      "  df_huntpop['percapita'] = df_huntpop['Paid Hunting License Holders'] / df_huntpop['Population (2019)']*100\n"
     ]
    }
   ],
   "source": [
    "df_huntpop['percapita'] = df_huntpop['Paid Hunting License Holders'] / df_huntpop['Population (2019)']*100"
   ]
  },
  {
   "cell_type": "code",
   "execution_count": 60,
   "metadata": {},
   "outputs": [],
   "source": [
    "df_huntpopranking = df_huntpop.sort_values(by='percapita', ascending=False)"
   ]
  },
  {
   "cell_type": "code",
   "execution_count": 62,
   "metadata": {},
   "outputs": [],
   "source": [
    "df_huntpopranking.to_csv('huntlicence-per-capita.csv')"
   ]
  },
  {
   "cell_type": "code",
   "execution_count": 64,
   "metadata": {},
   "outputs": [
    {
     "data": {
      "text/html": [
       "<div>\n",
       "<style scoped>\n",
       "    .dataframe tbody tr th:only-of-type {\n",
       "        vertical-align: middle;\n",
       "    }\n",
       "\n",
       "    .dataframe tbody tr th {\n",
       "        vertical-align: top;\n",
       "    }\n",
       "\n",
       "    .dataframe thead th {\n",
       "        text-align: right;\n",
       "    }\n",
       "</style>\n",
       "<table border=\"1\" class=\"dataframe\">\n",
       "  <thead>\n",
       "    <tr style=\"text-align: right;\">\n",
       "      <th></th>\n",
       "      <th>Name</th>\n",
       "      <th>Paid Hunting License Holders</th>\n",
       "      <th>Population (2019)</th>\n",
       "      <th>percapita</th>\n",
       "    </tr>\n",
       "  </thead>\n",
       "  <tbody>\n",
       "    <tr>\n",
       "      <th>41</th>\n",
       "      <td>South Dakota</td>\n",
       "      <td>213786</td>\n",
       "      <td>884659</td>\n",
       "      <td>24.165922</td>\n",
       "    </tr>\n",
       "    <tr>\n",
       "      <th>50</th>\n",
       "      <td>Wyoming</td>\n",
       "      <td>135228</td>\n",
       "      <td>578759</td>\n",
       "      <td>23.365166</td>\n",
       "    </tr>\n",
       "    <tr>\n",
       "      <th>26</th>\n",
       "      <td>Montana</td>\n",
       "      <td>222309</td>\n",
       "      <td>1068778</td>\n",
       "      <td>20.800297</td>\n",
       "    </tr>\n",
       "    <tr>\n",
       "      <th>28</th>\n",
       "      <td>North Dakota</td>\n",
       "      <td>135724</td>\n",
       "      <td>762062</td>\n",
       "      <td>17.810099</td>\n",
       "    </tr>\n",
       "    <tr>\n",
       "      <th>13</th>\n",
       "      <td>Idaho</td>\n",
       "      <td>275244</td>\n",
       "      <td>1787065</td>\n",
       "      <td>15.402014</td>\n",
       "    </tr>\n",
       "  </tbody>\n",
       "</table>\n",
       "</div>"
      ],
      "text/plain": [
       "              Name  Paid Hunting License Holders  Population (2019)  percapita\n",
       "41   South Dakota                         213786             884659  24.165922\n",
       "50        Wyoming                         135228             578759  23.365166\n",
       "26        Montana                         222309            1068778  20.800297\n",
       "28   North Dakota                         135724             762062  17.810099\n",
       "13          Idaho                         275244            1787065  15.402014"
      ]
     },
     "execution_count": 64,
     "metadata": {},
     "output_type": "execute_result"
    }
   ],
   "source": [
    "df_huntpopranking.head()"
   ]
  },
  {
   "cell_type": "markdown",
   "metadata": {},
   "source": [
    "## Answer: South Dakota is the state which has the highest per-capita hunting license holders."
   ]
  },
  {
   "cell_type": "code",
   "execution_count": null,
   "metadata": {},
   "outputs": [],
   "source": []
  },
  {
   "cell_type": "code",
   "execution_count": null,
   "metadata": {},
   "outputs": [],
   "source": []
  }
 ],
 "metadata": {
  "kernelspec": {
   "display_name": "Python 3",
   "language": "python",
   "name": "python3"
  },
  "language_info": {
   "codemirror_mode": {
    "name": "ipython",
    "version": 3
   },
   "file_extension": ".py",
   "mimetype": "text/x-python",
   "name": "python",
   "nbconvert_exporter": "python",
   "pygments_lexer": "ipython3",
   "version": "3.8.10"
  }
 },
 "nbformat": 4,
 "nbformat_minor": 4
}
